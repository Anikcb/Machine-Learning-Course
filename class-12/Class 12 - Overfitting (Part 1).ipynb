{
 "cells": [
  {
   "cell_type": "code",
   "execution_count": 1,
   "id": "c0f47809",
   "metadata": {},
   "outputs": [],
   "source": [
    "from sklearn.datasets import make_classification"
   ]
  },
  {
   "cell_type": "markdown",
   "id": "4988eef3",
   "metadata": {},
   "source": [
    "# Make Dataset "
   ]
  },
  {
   "cell_type": "code",
   "execution_count": 2,
   "id": "6c518956",
   "metadata": {},
   "outputs": [
    {
     "data": {
      "text/plain": [
       "(50000, 20)"
      ]
     },
     "execution_count": 2,
     "metadata": {},
     "output_type": "execute_result"
    }
   ],
   "source": [
    "x,y = make_classification(n_samples=50000)\n",
    "x.shape #Features"
   ]
  },
  {
   "cell_type": "code",
   "execution_count": 3,
   "id": "83c1e489",
   "metadata": {},
   "outputs": [
    {
     "data": {
      "text/plain": [
       "(50000,)"
      ]
     },
     "execution_count": 3,
     "metadata": {},
     "output_type": "execute_result"
    }
   ],
   "source": [
    "y.shape #Output"
   ]
  },
  {
   "cell_type": "code",
   "execution_count": 4,
   "id": "00e37e39",
   "metadata": {},
   "outputs": [],
   "source": [
    "from sklearn.model_selection import train_test_split"
   ]
  },
  {
   "cell_type": "code",
   "execution_count": 5,
   "id": "ea132da6",
   "metadata": {},
   "outputs": [],
   "source": [
    "xtrain,xtest,ytrain,ytest = train_test_split(x,y,train_size=.70)"
   ]
  },
  {
   "cell_type": "code",
   "execution_count": 6,
   "id": "ade78ec5",
   "metadata": {},
   "outputs": [
    {
     "data": {
      "text/plain": [
       "(35000, 20)"
      ]
     },
     "execution_count": 6,
     "metadata": {},
     "output_type": "execute_result"
    }
   ],
   "source": [
    "xtrain.shape"
   ]
  },
  {
   "cell_type": "code",
   "execution_count": 7,
   "id": "44e6ae6e",
   "metadata": {},
   "outputs": [
    {
     "data": {
      "text/plain": [
       "(15000, 20)"
      ]
     },
     "execution_count": 7,
     "metadata": {},
     "output_type": "execute_result"
    }
   ],
   "source": [
    "xtest.shape"
   ]
  },
  {
   "cell_type": "markdown",
   "id": "57cec2f1",
   "metadata": {},
   "source": [
    "# Test Overfitting"
   ]
  },
  {
   "cell_type": "code",
   "execution_count": 8,
   "id": "83b3a6d2",
   "metadata": {},
   "outputs": [],
   "source": [
    "tr_score = list() #train\n",
    "te_score = list() #test"
   ]
  },
  {
   "cell_type": "code",
   "execution_count": 9,
   "id": "8d44a591",
   "metadata": {},
   "outputs": [],
   "source": [
    "tree_depths = [i for i in range(1,21)]"
   ]
  },
  {
   "cell_type": "code",
   "execution_count": 10,
   "id": "e592fea8",
   "metadata": {},
   "outputs": [],
   "source": [
    "from sklearn.tree import DecisionTreeClassifier\n",
    "from sklearn.metrics import accuracy_score"
   ]
  },
  {
   "cell_type": "code",
   "execution_count": 11,
   "id": "c6d0407c",
   "metadata": {},
   "outputs": [
    {
     "name": "stdout",
     "output_type": "stream",
     "text": [
      "Depth = 1, train score= 0.910000, test score = 0.910000\n",
      "Depth = 2, train score= 0.910000, test score = 0.910000\n",
      "Depth = 3, train score= 0.923457, test score = 0.922533\n",
      "Depth = 4, train score= 0.926086, test score = 0.924733\n",
      "Depth = 5, train score= 0.930171, test score = 0.927400\n",
      "Depth = 6, train score= 0.932200, test score = 0.929133\n",
      "Depth = 7, train score= 0.933486, test score = 0.928333\n",
      "Depth = 8, train score= 0.936971, test score = 0.924800\n",
      "Depth = 9, train score= 0.940314, test score = 0.923667\n",
      "Depth = 10, train score= 0.944371, test score = 0.919733\n",
      "Depth = 11, train score= 0.949200, test score = 0.918333\n",
      "Depth = 12, train score= 0.954029, test score = 0.914733\n",
      "Depth = 13, train score= 0.958743, test score = 0.912400\n",
      "Depth = 14, train score= 0.963229, test score = 0.908467\n",
      "Depth = 15, train score= 0.967029, test score = 0.906733\n",
      "Depth = 16, train score= 0.970886, test score = 0.905400\n",
      "Depth = 17, train score= 0.974886, test score = 0.902333\n",
      "Depth = 18, train score= 0.978514, test score = 0.901067\n",
      "Depth = 19, train score= 0.981000, test score = 0.898667\n",
      "Depth = 20, train score= 0.984171, test score = 0.894400\n"
     ]
    }
   ],
   "source": [
    "for i in tree_depths:\n",
    "    \n",
    "    decition_tree_model = DecisionTreeClassifier(max_depth=i) #build model\n",
    "    \n",
    "    decition_tree_model.fit(xtrain,ytrain) #train our ML model\n",
    "    \n",
    "    #training data\n",
    "    train_pred = decition_tree_model.predict(xtrain)\n",
    "    train_ac = accuracy_score(ytrain,train_pred)\n",
    "    tr_score.append(train_ac)\n",
    "    \n",
    "    #testing data\n",
    "    test_pred = decition_tree_model.predict(xtest)\n",
    "    test_ac = accuracy_score(ytest,test_pred)\n",
    "    te_score.append(test_ac)\n",
    "    \n",
    "    print('Depth = %d, train score= %f, test score = %f' % (i,train_ac,test_ac))"
   ]
  },
  {
   "cell_type": "markdown",
   "id": "df530254",
   "metadata": {},
   "source": [
    "# Vizsualization"
   ]
  },
  {
   "cell_type": "code",
   "execution_count": 12,
   "id": "6a52237f",
   "metadata": {},
   "outputs": [],
   "source": [
    "from matplotlib import pyplot as py"
   ]
  },
  {
   "cell_type": "code",
   "execution_count": 13,
   "id": "1252ebf9",
   "metadata": {},
   "outputs": [
    {
     "data": {
      "image/png": "[encoded data removed]",
      "text/plain": [
       "<Figure size 432x288 with 1 Axes>"
      ]
     },
     "metadata": {
      "needs_background": "light"
     },
     "output_type": "display_data"
    }
   ],
   "source": [
    "py.plot(tree_depths, tr_score, '-o', label='Train Score')\n",
    "py.plot(tree_depths, te_score, '-o', label='Test Score')\n",
    "\n",
    "py.legend()\n",
    "py.show()"
   ]
  },
  {
   "cell_type": "code",
   "execution_count": null,
   "id": "1759a8eb",
   "metadata": {},
   "outputs": [],
   "source": []
  }
 ],
 "metadata": {
  "kernelspec": {
   "display_name": "Python 3 (ipykernel)",
   "language": "python",
   "name": "python3"
  },
  "language_info": {
   "codemirror_mode": {
    "name": "ipython",
    "version": 3
   },
   "file_extension": ".py",
   "mimetype": "text/x-python",
   "name": "python",
   "nbconvert_exporter": "python",
   "pygments_lexer": "ipython3",
   "version": "3.9.5"
  }
 },
 "nbformat": 4,
 "nbformat_minor": 5
}

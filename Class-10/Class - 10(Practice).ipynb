{
 "cells": [
  {
   "cell_type": "markdown",
   "id": "096c9ece",
   "metadata": {},
   "source": [
    "# importing Libraries"
   ]
  },
  {
   "cell_type": "code",
   "execution_count": 1,
   "id": "20f6248e",
   "metadata": {},
   "outputs": [],
   "source": [
    "import pandas as pd\n",
    "import matplotlib.pyplot as plt\n",
    "import seaborn as sns\n",
    "import numpy as nm"
   ]
  },
  {
   "cell_type": "code",
   "execution_count": 3,
   "id": "ebe53211",
   "metadata": {},
   "outputs": [
    {
     "data": {
      "text/html": [
       "<div>\n",
       "<style scoped>\n",
       "    .dataframe tbody tr th:only-of-type {\n",
       "        vertical-align: middle;\n",
       "    }\n",
       "\n",
       "    .dataframe tbody tr th {\n",
       "        vertical-align: top;\n",
       "    }\n",
       "\n",
       "    .dataframe thead th {\n",
       "        text-align: right;\n",
       "    }\n",
       "</style>\n",
       "<table border=\"1\" class=\"dataframe\">\n",
       "  <thead>\n",
       "    <tr style=\"text-align: right;\">\n",
       "      <th></th>\n",
       "      <th>age</th>\n",
       "      <th>anaemia</th>\n",
       "      <th>creatinine_phosphokinase</th>\n",
       "      <th>diabetes</th>\n",
       "      <th>ejection_fraction</th>\n",
       "      <th>high_blood_pressure</th>\n",
       "      <th>platelets</th>\n",
       "      <th>serum_creatinine</th>\n",
       "      <th>serum_sodium</th>\n",
       "      <th>sex</th>\n",
       "      <th>smoking</th>\n",
       "      <th>time</th>\n",
       "      <th>DEATH_EVENT</th>\n",
       "    </tr>\n",
       "  </thead>\n",
       "  <tbody>\n",
       "    <tr>\n",
       "      <th>0</th>\n",
       "      <td>75.0</td>\n",
       "      <td>0</td>\n",
       "      <td>582</td>\n",
       "      <td>0</td>\n",
       "      <td>20</td>\n",
       "      <td>1</td>\n",
       "      <td>265000.00</td>\n",
       "      <td>1.9</td>\n",
       "      <td>130</td>\n",
       "      <td>1</td>\n",
       "      <td>0</td>\n",
       "      <td>4</td>\n",
       "      <td>1</td>\n",
       "    </tr>\n",
       "    <tr>\n",
       "      <th>1</th>\n",
       "      <td>55.0</td>\n",
       "      <td>0</td>\n",
       "      <td>7861</td>\n",
       "      <td>0</td>\n",
       "      <td>38</td>\n",
       "      <td>0</td>\n",
       "      <td>263358.03</td>\n",
       "      <td>1.1</td>\n",
       "      <td>136</td>\n",
       "      <td>1</td>\n",
       "      <td>0</td>\n",
       "      <td>6</td>\n",
       "      <td>1</td>\n",
       "    </tr>\n",
       "    <tr>\n",
       "      <th>2</th>\n",
       "      <td>65.0</td>\n",
       "      <td>0</td>\n",
       "      <td>146</td>\n",
       "      <td>0</td>\n",
       "      <td>20</td>\n",
       "      <td>0</td>\n",
       "      <td>162000.00</td>\n",
       "      <td>1.3</td>\n",
       "      <td>129</td>\n",
       "      <td>1</td>\n",
       "      <td>1</td>\n",
       "      <td>7</td>\n",
       "      <td>1</td>\n",
       "    </tr>\n",
       "    <tr>\n",
       "      <th>3</th>\n",
       "      <td>50.0</td>\n",
       "      <td>1</td>\n",
       "      <td>111</td>\n",
       "      <td>0</td>\n",
       "      <td>20</td>\n",
       "      <td>0</td>\n",
       "      <td>210000.00</td>\n",
       "      <td>1.9</td>\n",
       "      <td>137</td>\n",
       "      <td>1</td>\n",
       "      <td>0</td>\n",
       "      <td>7</td>\n",
       "      <td>1</td>\n",
       "    </tr>\n",
       "    <tr>\n",
       "      <th>4</th>\n",
       "      <td>65.0</td>\n",
       "      <td>1</td>\n",
       "      <td>160</td>\n",
       "      <td>1</td>\n",
       "      <td>20</td>\n",
       "      <td>0</td>\n",
       "      <td>327000.00</td>\n",
       "      <td>2.7</td>\n",
       "      <td>116</td>\n",
       "      <td>0</td>\n",
       "      <td>0</td>\n",
       "      <td>8</td>\n",
       "      <td>1</td>\n",
       "    </tr>\n",
       "  </tbody>\n",
       "</table>\n",
       "</div>"
      ],
      "text/plain": [
       "    age  anaemia  creatinine_phosphokinase  diabetes  ejection_fraction  \\\n",
       "0  75.0        0                       582         0                 20   \n",
       "1  55.0        0                      7861         0                 38   \n",
       "2  65.0        0                       146         0                 20   \n",
       "3  50.0        1                       111         0                 20   \n",
       "4  65.0        1                       160         1                 20   \n",
       "\n",
       "   high_blood_pressure  platelets  serum_creatinine  serum_sodium  sex  \\\n",
       "0                    1  265000.00               1.9           130    1   \n",
       "1                    0  263358.03               1.1           136    1   \n",
       "2                    0  162000.00               1.3           129    1   \n",
       "3                    0  210000.00               1.9           137    1   \n",
       "4                    0  327000.00               2.7           116    0   \n",
       "\n",
       "   smoking  time  DEATH_EVENT  \n",
       "0        0     4            1  \n",
       "1        0     6            1  \n",
       "2        1     7            1  \n",
       "3        0     7            1  \n",
       "4        0     8            1  "
      ]
     },
     "execution_count": 3,
     "metadata": {},
     "output_type": "execute_result"
    }
   ],
   "source": [
    "df = pd.read_csv('heart failure.csv')\n",
    "df.head()"
   ]
  },
  {
   "cell_type": "markdown",
   "id": "b679728c",
   "metadata": {},
   "source": [
    "# Spliting data set\n",
    "\n",
    "This stratify parameter makes a split so that the proportion of values in the sample produced will be the same as the proportion of values provided to parameter stratify.For example, if variable y is a binary categorical variable with values 0 and 1 and there are 25% of zeros and 75% of ones, stratify=y will make sure that your random split has 25% of 0's and 75% of 1's.[Learn More](https://stackoverflow.com/questions/34842405/parameter-stratify-from-method-train-test-split-scikit-learn)\n",
    "\n",
    "random_state as the name suggests, is used for initializing the internal random number generator, which will decide the splitting of data into train and test indices in your case.[Learn More](https://stackoverflow.com/questions/42191717/scikit-learn-random-state-in-splitting-dataset)"
   ]
  },
  {
   "cell_type": "code",
   "execution_count": 7,
   "id": "1c705d64",
   "metadata": {},
   "outputs": [],
   "source": [
    "x = df.drop('DEATH_EVENT', axis =1);\n",
    "y = df.DEATH_EVENT"
   ]
  },
  {
   "cell_type": "code",
   "execution_count": 8,
   "id": "de882d60",
   "metadata": {},
   "outputs": [],
   "source": [
    "from sklearn.model_selection import train_test_split"
   ]
  },
  {
   "cell_type": "code",
   "execution_count": 20,
   "id": "49b31bb0",
   "metadata": {},
   "outputs": [],
   "source": [
    "xtrain, xtest, ytrain, ytest = train_test_split(x,y,stratify=y,random_state=20, test_size=.30)"
   ]
  },
  {
   "cell_type": "code",
   "execution_count": 21,
   "id": "0296e972",
   "metadata": {},
   "outputs": [
    {
     "data": {
      "text/plain": [
       "(209, 12)"
      ]
     },
     "execution_count": 21,
     "metadata": {},
     "output_type": "execute_result"
    }
   ],
   "source": [
    "xtrain.shape"
   ]
  },
  {
   "cell_type": "markdown",
   "id": "fa297af8",
   "metadata": {},
   "source": [
    "# Random Forest"
   ]
  },
  {
   "cell_type": "code",
   "execution_count": 23,
   "id": "6cc568a9",
   "metadata": {},
   "outputs": [],
   "source": [
    "from sklearn.ensemble import RandomForestClassifier"
   ]
  },
  {
   "cell_type": "code",
   "execution_count": 24,
   "id": "fd175c24",
   "metadata": {},
   "outputs": [],
   "source": [
    "rncl = RandomForestClassifier()"
   ]
  },
  {
   "cell_type": "code",
   "execution_count": 25,
   "id": "81ee2f32",
   "metadata": {},
   "outputs": [
    {
     "data": {
      "text/plain": [
       "RandomForestClassifier()"
      ]
     },
     "execution_count": 25,
     "metadata": {},
     "output_type": "execute_result"
    }
   ],
   "source": [
    "rncl.fit(xtrain,ytrain)"
   ]
  },
  {
   "cell_type": "markdown",
   "id": "4f68aebf",
   "metadata": {},
   "source": [
    "## Prediction"
   ]
  },
  {
   "cell_type": "code",
   "execution_count": 26,
   "id": "3eade5e9",
   "metadata": {},
   "outputs": [],
   "source": [
    "pred = rncl.predict(xtest)"
   ]
  },
  {
   "cell_type": "markdown",
   "id": "be44cc38",
   "metadata": {},
   "source": [
    "## Confusion Matrix"
   ]
  },
  {
   "cell_type": "code",
   "execution_count": 27,
   "id": "38e01cca",
   "metadata": {},
   "outputs": [],
   "source": [
    "from sklearn.metrics import classification_report, accuracy_score,confusion_matrix,roc_curve,plot_roc_curve"
   ]
  },
  {
   "cell_type": "code",
   "execution_count": 28,
   "id": "45443255",
   "metadata": {},
   "outputs": [
    {
     "data": {
      "text/plain": [
       "array([[54,  7],\n",
       "       [ 9, 20]], dtype=int64)"
      ]
     },
     "execution_count": 28,
     "metadata": {},
     "output_type": "execute_result"
    }
   ],
   "source": [
    "cm = confusion_matrix(ytest,pred)\n",
    "cm"
   ]
  },
  {
   "cell_type": "code",
   "execution_count": 31,
   "id": "49d5f9af",
   "metadata": {},
   "outputs": [
    {
     "data": {
      "text/plain": [
       "Text(33.0, 0.5, 'Actual Values')"
      ]
     },
     "execution_count": 31,
     "metadata": {},
     "output_type": "execute_result"
    },
    {
     "data": {
      "image/png": "[encoded data removed]",
      "text/plain": [
       "<Figure size 432x288 with 2 Axes>"
      ]
     },
     "metadata": {
      "needs_background": "light"
     },
     "output_type": "display_data"
    }
   ],
   "source": [
    "sns.heatmap(cm, annot=True)\n",
    "plt.xlabel('Predicted Values')\n",
    "plt.ylabel('Actual Values')"
   ]
  },
  {
   "cell_type": "code",
   "execution_count": 32,
   "id": "d178d1fd",
   "metadata": {},
   "outputs": [
    {
     "data": {
      "text/plain": [
       "0.8222222222222222"
      ]
     },
     "execution_count": 32,
     "metadata": {},
     "output_type": "execute_result"
    }
   ],
   "source": [
    "rncl.score(xtest,ytest)"
   ]
  },
  {
   "cell_type": "markdown",
   "id": "b0339162",
   "metadata": {},
   "source": [
    "# Hyper Parameter Tuning / Optimization"
   ]
  },
  {
   "cell_type": "markdown",
   "id": "38c94314",
   "metadata": {},
   "source": [
    "# Randomized Search CV"
   ]
  },
  {
   "cell_type": "code",
   "execution_count": 33,
   "id": "21b5c354",
   "metadata": {},
   "outputs": [],
   "source": [
    "from sklearn.model_selection import RandomizedSearchCV"
   ]
  },
  {
   "cell_type": "markdown",
   "id": "6d87caaf",
   "metadata": {},
   "source": [
    "### Linespace or Randint - better in Linespace"
   ]
  },
  {
   "cell_type": "code",
   "execution_count": 35,
   "id": "01a85a40",
   "metadata": {},
   "outputs": [
    {
     "data": {
      "text/plain": [
       "[100, 128, 157, 185, 214, 242, 271, 300, 328, 357, 385, 414, 442, 471, 500]"
      ]
     },
     "execution_count": 35,
     "metadata": {},
     "output_type": "execute_result"
    }
   ],
   "source": [
    "n_estimators = [int(x) for x in nm.linspace(start=100, stop=500, num=15)]\n",
    "n_estimators"
   ]
  },
  {
   "cell_type": "code",
   "execution_count": 37,
   "id": "958320c7",
   "metadata": {},
   "outputs": [
    {
     "data": {
      "text/plain": [
       "array([486, 167, 302, 226, 450, 444, 330, 306, 369, 280, 276, 333, 221,\n",
       "       339, 113])"
      ]
     },
     "execution_count": 37,
     "metadata": {},
     "output_type": "execute_result"
    }
   ],
   "source": [
    "nm.random.randint(100,500,15)"
   ]
  },
  {
   "cell_type": "code",
   "execution_count": 42,
   "id": "72450ec5",
   "metadata": {},
   "outputs": [
    {
     "name": "stdout",
     "output_type": "stream",
     "text": [
      "{'n_estimators': [100, 128, 157, 185, 214, 242, 271, 300, 328, 357, 385, 414, 442, 471, 500], 'max_features': ['auto', 'sqrt', 'log2'], 'max_depth': [10, 16, 22, 29, 35, 42, 48, 55, 61, 67, 74, 80, 87, 93, 100], 'min_samples_split': [2, 4, 5, 6, 7, 9, 10], 'min_samples_leaf': [2, 3, 5, 6, 7, 9, 12], 'criterion': ['entropy', 'gini']}\n"
     ]
    }
   ],
   "source": [
    "#Update Parameters\n",
    "\n",
    "n_estimators = [int(x) for x in nm.linspace(start=100, stop=500, num=15)]\n",
    "max_features = ['auto', 'sqrt', 'log2']\n",
    "max_depth = [int(x) for x in nm.linspace(start=10, stop=100, num=15)]\n",
    "min_samples_split = [2,4,5,6,7,9,10]\n",
    "min_samples_leaf = [2,3,5,6,7,9,12]\n",
    "criterion = ['entropy','gini']\n",
    "\n",
    "grid={\n",
    "    'n_estimators' : n_estimators,\n",
    "    'max_features' : max_features,\n",
    "    'max_depth' : max_depth,\n",
    "    'min_samples_split' : min_samples_split,\n",
    "    'min_samples_leaf' : min_samples_leaf,\n",
    "    'criterion' :  criterion\n",
    "}\n",
    "print(grid)"
   ]
  },
  {
   "cell_type": "code",
   "execution_count": 43,
   "id": "b5cee725",
   "metadata": {},
   "outputs": [],
   "source": [
    "rncl2 = RandomForestClassifier()"
   ]
  },
  {
   "cell_type": "code",
   "execution_count": 44,
   "id": "3749459b",
   "metadata": {},
   "outputs": [],
   "source": [
    "rncv = RandomizedSearchCV(rncl2, grid, n_iter=200, cv=3)"
   ]
  },
  {
   "cell_type": "code",
   "execution_count": 45,
   "id": "ed223d40",
   "metadata": {},
   "outputs": [
    {
     "data": {
      "text/plain": [
       "RandomizedSearchCV(cv=3, estimator=RandomForestClassifier(), n_iter=200,\n",
       "                   param_distributions={'criterion': ['entropy', 'gini'],\n",
       "                                        'max_depth': [10, 16, 22, 29, 35, 42,\n",
       "                                                      48, 55, 61, 67, 74, 80,\n",
       "                                                      87, 93, 100],\n",
       "                                        'max_features': ['auto', 'sqrt',\n",
       "                                                         'log2'],\n",
       "                                        'min_samples_leaf': [2, 3, 5, 6, 7, 9,\n",
       "                                                             12],\n",
       "                                        'min_samples_split': [2, 4, 5, 6, 7, 9,\n",
       "                                                              10],\n",
       "                                        'n_estimators': [100, 128, 157, 185,\n",
       "                                                         214, 242, 271, 300,\n",
       "                                                         328, 357, 385, 414,\n",
       "                                                         442, 471, 500]})"
      ]
     },
     "execution_count": 45,
     "metadata": {},
     "output_type": "execute_result"
    }
   ],
   "source": [
    "rncv.fit(xtrain,ytrain)"
   ]
  },
  {
   "cell_type": "code",
   "execution_count": 46,
   "id": "6d01c6fb",
   "metadata": {},
   "outputs": [],
   "source": [
    "result = pd.DataFrame(rncv.cv_results_)"
   ]
  },
  {
   "cell_type": "code",
   "execution_count": 47,
   "id": "eeccf8fa",
   "metadata": {},
   "outputs": [
    {
     "data": {
      "text/html": [
       "<div>\n",
       "<style scoped>\n",
       "    .dataframe tbody tr th:only-of-type {\n",
       "        vertical-align: middle;\n",
       "    }\n",
       "\n",
       "    .dataframe tbody tr th {\n",
       "        vertical-align: top;\n",
       "    }\n",
       "\n",
       "    .dataframe thead th {\n",
       "        text-align: right;\n",
       "    }\n",
       "</style>\n",
       "<table border=\"1\" class=\"dataframe\">\n",
       "  <thead>\n",
       "    <tr style=\"text-align: right;\">\n",
       "      <th></th>\n",
       "      <th>mean_fit_time</th>\n",
       "      <th>std_fit_time</th>\n",
       "      <th>mean_score_time</th>\n",
       "      <th>std_score_time</th>\n",
       "      <th>param_n_estimators</th>\n",
       "      <th>param_min_samples_split</th>\n",
       "      <th>param_min_samples_leaf</th>\n",
       "      <th>param_max_features</th>\n",
       "      <th>param_max_depth</th>\n",
       "      <th>param_criterion</th>\n",
       "      <th>params</th>\n",
       "      <th>split0_test_score</th>\n",
       "      <th>split1_test_score</th>\n",
       "      <th>split2_test_score</th>\n",
       "      <th>mean_test_score</th>\n",
       "      <th>std_test_score</th>\n",
       "      <th>rank_test_score</th>\n",
       "    </tr>\n",
       "  </thead>\n",
       "  <tbody>\n",
       "    <tr>\n",
       "      <th>0</th>\n",
       "      <td>0.349419</td>\n",
       "      <td>0.027387</td>\n",
       "      <td>0.027318</td>\n",
       "      <td>0.003658</td>\n",
       "      <td>214</td>\n",
       "      <td>2</td>\n",
       "      <td>9</td>\n",
       "      <td>log2</td>\n",
       "      <td>80</td>\n",
       "      <td>gini</td>\n",
       "      <td>{'n_estimators': 214, 'min_samples_split': 2, ...</td>\n",
       "      <td>0.871429</td>\n",
       "      <td>0.800000</td>\n",
       "      <td>0.840580</td>\n",
       "      <td>0.837336</td>\n",
       "      <td>0.029251</td>\n",
       "      <td>145</td>\n",
       "    </tr>\n",
       "    <tr>\n",
       "      <th>1</th>\n",
       "      <td>0.720064</td>\n",
       "      <td>0.029467</td>\n",
       "      <td>0.191799</td>\n",
       "      <td>0.196844</td>\n",
       "      <td>442</td>\n",
       "      <td>4</td>\n",
       "      <td>9</td>\n",
       "      <td>log2</td>\n",
       "      <td>22</td>\n",
       "      <td>entropy</td>\n",
       "      <td>{'n_estimators': 442, 'min_samples_split': 4, ...</td>\n",
       "      <td>0.885714</td>\n",
       "      <td>0.828571</td>\n",
       "      <td>0.826087</td>\n",
       "      <td>0.846791</td>\n",
       "      <td>0.027542</td>\n",
       "      <td>81</td>\n",
       "    </tr>\n",
       "    <tr>\n",
       "      <th>2</th>\n",
       "      <td>0.719417</td>\n",
       "      <td>0.084135</td>\n",
       "      <td>0.050675</td>\n",
       "      <td>0.006985</td>\n",
       "      <td>385</td>\n",
       "      <td>4</td>\n",
       "      <td>6</td>\n",
       "      <td>auto</td>\n",
       "      <td>16</td>\n",
       "      <td>entropy</td>\n",
       "      <td>{'n_estimators': 385, 'min_samples_split': 4, ...</td>\n",
       "      <td>0.857143</td>\n",
       "      <td>0.814286</td>\n",
       "      <td>0.840580</td>\n",
       "      <td>0.837336</td>\n",
       "      <td>0.017646</td>\n",
       "      <td>153</td>\n",
       "    </tr>\n",
       "    <tr>\n",
       "      <th>3</th>\n",
       "      <td>0.807017</td>\n",
       "      <td>0.025154</td>\n",
       "      <td>0.064108</td>\n",
       "      <td>0.003932</td>\n",
       "      <td>500</td>\n",
       "      <td>6</td>\n",
       "      <td>2</td>\n",
       "      <td>log2</td>\n",
       "      <td>74</td>\n",
       "      <td>entropy</td>\n",
       "      <td>{'n_estimators': 500, 'min_samples_split': 6, ...</td>\n",
       "      <td>0.857143</td>\n",
       "      <td>0.828571</td>\n",
       "      <td>0.840580</td>\n",
       "      <td>0.842098</td>\n",
       "      <td>0.011714</td>\n",
       "      <td>95</td>\n",
       "    </tr>\n",
       "    <tr>\n",
       "      <th>4</th>\n",
       "      <td>0.651514</td>\n",
       "      <td>0.009753</td>\n",
       "      <td>0.051724</td>\n",
       "      <td>0.002252</td>\n",
       "      <td>442</td>\n",
       "      <td>10</td>\n",
       "      <td>7</td>\n",
       "      <td>sqrt</td>\n",
       "      <td>80</td>\n",
       "      <td>gini</td>\n",
       "      <td>{'n_estimators': 442, 'min_samples_split': 10,...</td>\n",
       "      <td>0.885714</td>\n",
       "      <td>0.828571</td>\n",
       "      <td>0.826087</td>\n",
       "      <td>0.846791</td>\n",
       "      <td>0.027542</td>\n",
       "      <td>81</td>\n",
       "    </tr>\n",
       "    <tr>\n",
       "      <th>...</th>\n",
       "      <td>...</td>\n",
       "      <td>...</td>\n",
       "      <td>...</td>\n",
       "      <td>...</td>\n",
       "      <td>...</td>\n",
       "      <td>...</td>\n",
       "      <td>...</td>\n",
       "      <td>...</td>\n",
       "      <td>...</td>\n",
       "      <td>...</td>\n",
       "      <td>...</td>\n",
       "      <td>...</td>\n",
       "      <td>...</td>\n",
       "      <td>...</td>\n",
       "      <td>...</td>\n",
       "      <td>...</td>\n",
       "      <td>...</td>\n",
       "    </tr>\n",
       "    <tr>\n",
       "      <th>195</th>\n",
       "      <td>0.408324</td>\n",
       "      <td>0.014978</td>\n",
       "      <td>0.033005</td>\n",
       "      <td>0.000005</td>\n",
       "      <td>271</td>\n",
       "      <td>4</td>\n",
       "      <td>7</td>\n",
       "      <td>sqrt</td>\n",
       "      <td>67</td>\n",
       "      <td>entropy</td>\n",
       "      <td>{'n_estimators': 271, 'min_samples_split': 4, ...</td>\n",
       "      <td>0.885714</td>\n",
       "      <td>0.828571</td>\n",
       "      <td>0.826087</td>\n",
       "      <td>0.846791</td>\n",
       "      <td>0.027542</td>\n",
       "      <td>81</td>\n",
       "    </tr>\n",
       "    <tr>\n",
       "      <th>196</th>\n",
       "      <td>0.702664</td>\n",
       "      <td>0.034181</td>\n",
       "      <td>0.055003</td>\n",
       "      <td>0.000818</td>\n",
       "      <td>471</td>\n",
       "      <td>5</td>\n",
       "      <td>12</td>\n",
       "      <td>sqrt</td>\n",
       "      <td>93</td>\n",
       "      <td>gini</td>\n",
       "      <td>{'n_estimators': 471, 'min_samples_split': 5, ...</td>\n",
       "      <td>0.871429</td>\n",
       "      <td>0.814286</td>\n",
       "      <td>0.840580</td>\n",
       "      <td>0.842098</td>\n",
       "      <td>0.023353</td>\n",
       "      <td>95</td>\n",
       "    </tr>\n",
       "    <tr>\n",
       "      <th>197</th>\n",
       "      <td>0.630331</td>\n",
       "      <td>0.008339</td>\n",
       "      <td>0.051993</td>\n",
       "      <td>0.000809</td>\n",
       "      <td>442</td>\n",
       "      <td>5</td>\n",
       "      <td>9</td>\n",
       "      <td>auto</td>\n",
       "      <td>22</td>\n",
       "      <td>entropy</td>\n",
       "      <td>{'n_estimators': 442, 'min_samples_split': 5, ...</td>\n",
       "      <td>0.885714</td>\n",
       "      <td>0.814286</td>\n",
       "      <td>0.840580</td>\n",
       "      <td>0.846860</td>\n",
       "      <td>0.029497</td>\n",
       "      <td>68</td>\n",
       "    </tr>\n",
       "    <tr>\n",
       "      <th>198</th>\n",
       "      <td>0.565334</td>\n",
       "      <td>0.042151</td>\n",
       "      <td>0.042326</td>\n",
       "      <td>0.000953</td>\n",
       "      <td>357</td>\n",
       "      <td>4</td>\n",
       "      <td>9</td>\n",
       "      <td>log2</td>\n",
       "      <td>29</td>\n",
       "      <td>gini</td>\n",
       "      <td>{'n_estimators': 357, 'min_samples_split': 4, ...</td>\n",
       "      <td>0.857143</td>\n",
       "      <td>0.828571</td>\n",
       "      <td>0.811594</td>\n",
       "      <td>0.832436</td>\n",
       "      <td>0.018795</td>\n",
       "      <td>184</td>\n",
       "    </tr>\n",
       "    <tr>\n",
       "      <th>199</th>\n",
       "      <td>0.542020</td>\n",
       "      <td>0.015801</td>\n",
       "      <td>0.042668</td>\n",
       "      <td>0.000460</td>\n",
       "      <td>357</td>\n",
       "      <td>7</td>\n",
       "      <td>2</td>\n",
       "      <td>auto</td>\n",
       "      <td>80</td>\n",
       "      <td>gini</td>\n",
       "      <td>{'n_estimators': 357, 'min_samples_split': 7, ...</td>\n",
       "      <td>0.842857</td>\n",
       "      <td>0.828571</td>\n",
       "      <td>0.826087</td>\n",
       "      <td>0.832505</td>\n",
       "      <td>0.007390</td>\n",
       "      <td>178</td>\n",
       "    </tr>\n",
       "  </tbody>\n",
       "</table>\n",
       "<p>200 rows × 17 columns</p>\n",
       "</div>"
      ],
      "text/plain": [
       "     mean_fit_time  std_fit_time  mean_score_time  std_score_time  \\\n",
       "0         0.349419      0.027387         0.027318        0.003658   \n",
       "1         0.720064      0.029467         0.191799        0.196844   \n",
       "2         0.719417      0.084135         0.050675        0.006985   \n",
       "3         0.807017      0.025154         0.064108        0.003932   \n",
       "4         0.651514      0.009753         0.051724        0.002252   \n",
       "..             ...           ...              ...             ...   \n",
       "195       0.408324      0.014978         0.033005        0.000005   \n",
       "196       0.702664      0.034181         0.055003        0.000818   \n",
       "197       0.630331      0.008339         0.051993        0.000809   \n",
       "198       0.565334      0.042151         0.042326        0.000953   \n",
       "199       0.542020      0.015801         0.042668        0.000460   \n",
       "\n",
       "    param_n_estimators param_min_samples_split param_min_samples_leaf  \\\n",
       "0                  214                       2                      9   \n",
       "1                  442                       4                      9   \n",
       "2                  385                       4                      6   \n",
       "3                  500                       6                      2   \n",
       "4                  442                      10                      7   \n",
       "..                 ...                     ...                    ...   \n",
       "195                271                       4                      7   \n",
       "196                471                       5                     12   \n",
       "197                442                       5                      9   \n",
       "198                357                       4                      9   \n",
       "199                357                       7                      2   \n",
       "\n",
       "    param_max_features param_max_depth param_criterion  \\\n",
       "0                 log2              80            gini   \n",
       "1                 log2              22         entropy   \n",
       "2                 auto              16         entropy   \n",
       "3                 log2              74         entropy   \n",
       "4                 sqrt              80            gini   \n",
       "..                 ...             ...             ...   \n",
       "195               sqrt              67         entropy   \n",
       "196               sqrt              93            gini   \n",
       "197               auto              22         entropy   \n",
       "198               log2              29            gini   \n",
       "199               auto              80            gini   \n",
       "\n",
       "                                                params  split0_test_score  \\\n",
       "0    {'n_estimators': 214, 'min_samples_split': 2, ...           0.871429   \n",
       "1    {'n_estimators': 442, 'min_samples_split': 4, ...           0.885714   \n",
       "2    {'n_estimators': 385, 'min_samples_split': 4, ...           0.857143   \n",
       "3    {'n_estimators': 500, 'min_samples_split': 6, ...           0.857143   \n",
       "4    {'n_estimators': 442, 'min_samples_split': 10,...           0.885714   \n",
       "..                                                 ...                ...   \n",
       "195  {'n_estimators': 271, 'min_samples_split': 4, ...           0.885714   \n",
       "196  {'n_estimators': 471, 'min_samples_split': 5, ...           0.871429   \n",
       "197  {'n_estimators': 442, 'min_samples_split': 5, ...           0.885714   \n",
       "198  {'n_estimators': 357, 'min_samples_split': 4, ...           0.857143   \n",
       "199  {'n_estimators': 357, 'min_samples_split': 7, ...           0.842857   \n",
       "\n",
       "     split1_test_score  split2_test_score  mean_test_score  std_test_score  \\\n",
       "0             0.800000           0.840580         0.837336        0.029251   \n",
       "1             0.828571           0.826087         0.846791        0.027542   \n",
       "2             0.814286           0.840580         0.837336        0.017646   \n",
       "3             0.828571           0.840580         0.842098        0.011714   \n",
       "4             0.828571           0.826087         0.846791        0.027542   \n",
       "..                 ...                ...              ...             ...   \n",
       "195           0.828571           0.826087         0.846791        0.027542   \n",
       "196           0.814286           0.840580         0.842098        0.023353   \n",
       "197           0.814286           0.840580         0.846860        0.029497   \n",
       "198           0.828571           0.811594         0.832436        0.018795   \n",
       "199           0.828571           0.826087         0.832505        0.007390   \n",
       "\n",
       "     rank_test_score  \n",
       "0                145  \n",
       "1                 81  \n",
       "2                153  \n",
       "3                 95  \n",
       "4                 81  \n",
       "..               ...  \n",
       "195               81  \n",
       "196               95  \n",
       "197               68  \n",
       "198              184  \n",
       "199              178  \n",
       "\n",
       "[200 rows x 17 columns]"
      ]
     },
     "execution_count": 47,
     "metadata": {},
     "output_type": "execute_result"
    }
   ],
   "source": [
    "result"
   ]
  },
  {
   "cell_type": "markdown",
   "id": "84cf9422",
   "metadata": {},
   "source": [
    "### Best Score"
   ]
  },
  {
   "cell_type": "code",
   "execution_count": 48,
   "id": "748275e3",
   "metadata": {},
   "outputs": [
    {
     "data": {
      "text/plain": [
       "0.865976535541753"
      ]
     },
     "execution_count": 48,
     "metadata": {},
     "output_type": "execute_result"
    }
   ],
   "source": [
    "rncv.best_score_"
   ]
  },
  {
   "cell_type": "markdown",
   "id": "38e59d17",
   "metadata": {},
   "source": [
    "### Best parameters "
   ]
  },
  {
   "cell_type": "code",
   "execution_count": 50,
   "id": "47442754",
   "metadata": {},
   "outputs": [
    {
     "data": {
      "text/plain": [
       "{'n_estimators': 100,\n",
       " 'min_samples_split': 7,\n",
       " 'min_samples_leaf': 12,\n",
       " 'max_features': 'log2',\n",
       " 'max_depth': 61,\n",
       " 'criterion': 'entropy'}"
      ]
     },
     "execution_count": 50,
     "metadata": {},
     "output_type": "execute_result"
    }
   ],
   "source": [
    "rncv.best_params_"
   ]
  },
  {
   "cell_type": "markdown",
   "id": "96406bb7",
   "metadata": {},
   "source": [
    "### Best parameters with Function"
   ]
  },
  {
   "cell_type": "code",
   "execution_count": 51,
   "id": "91cb3179",
   "metadata": {},
   "outputs": [
    {
     "data": {
      "text/plain": [
       "RandomForestClassifier(criterion='entropy', max_depth=61, max_features='log2',\n",
       "                       min_samples_leaf=12, min_samples_split=7)"
      ]
     },
     "execution_count": 51,
     "metadata": {},
     "output_type": "execute_result"
    }
   ],
   "source": [
    "rncv.best_estimator_"
   ]
  },
  {
   "cell_type": "markdown",
   "id": "ce11cc2a",
   "metadata": {},
   "source": [
    "### Test on Best parameter"
   ]
  },
  {
   "cell_type": "code",
   "execution_count": 52,
   "id": "497ad3e3",
   "metadata": {},
   "outputs": [
    {
     "data": {
      "text/plain": [
       "0.8333333333333334"
      ]
     },
     "execution_count": 52,
     "metadata": {},
     "output_type": "execute_result"
    }
   ],
   "source": [
    "best = rncv.best_estimator_\n",
    "best.score(xtest,ytest)"
   ]
  },
  {
   "cell_type": "code",
   "execution_count": 53,
   "id": "76862c7f",
   "metadata": {},
   "outputs": [
    {
     "data": {
      "text/plain": [
       "0.8729096989966555"
      ]
     },
     "execution_count": 53,
     "metadata": {},
     "output_type": "execute_result"
    }
   ],
   "source": [
    "best.score(x,y)"
   ]
  },
  {
   "cell_type": "markdown",
   "id": "cdda2b53",
   "metadata": {},
   "source": [
    "# XGBoost Classifier"
   ]
  },
  {
   "cell_type": "code",
   "execution_count": 54,
   "id": "b6890a5e",
   "metadata": {},
   "outputs": [
    {
     "name": "stderr",
     "output_type": "stream",
     "text": [
      "WARNING: You are using pip version 21.2.4; however, version 21.3.1 is available.\n",
      "You should consider upgrading via the 'c:\\users\\anik chakraborty\\appdata\\local\\programs\\python\\python39\\python.exe -m pip install --upgrade pip' command.\n"
     ]
    },
    {
     "name": "stdout",
     "output_type": "stream",
     "text": [
      "Collecting xgboost\n",
      "  Downloading xgboost-1.5.1-py3-none-win_amd64.whl (106.6 MB)\n",
      "Requirement already satisfied: numpy in c:\\users\\anik chakraborty\\appdata\\local\\programs\\python\\python39\\lib\\site-packages (from xgboost) (1.21.2)\n",
      "Requirement already satisfied: scipy in c:\\users\\anik chakraborty\\appdata\\local\\programs\\python\\python39\\lib\\site-packages (from xgboost) (1.7.1)\n",
      "Installing collected packages: xgboost\n",
      "Successfully installed xgboost-1.5.1\n"
     ]
    }
   ],
   "source": [
    "!pip install xgboost\n",
    "import xgboost\n",
    "from xgboost import XGBClassifier"
   ]
  },
  {
   "cell_type": "code",
   "execution_count": 55,
   "id": "48b3c515",
   "metadata": {},
   "outputs": [
    {
     "name": "stdout",
     "output_type": "stream",
     "text": [
      "[14:45:37] WARNING: C:/Users/Administrator/workspace/xgboost-win64_release_1.5.1/src/learner.cc:1115: Starting in XGBoost 1.3.0, the default evaluation metric used with the objective 'binary:logistic' was changed from 'error' to 'logloss'. Explicitly set eval_metric if you'd like to restore the old behavior.\n"
     ]
    },
    {
     "name": "stderr",
     "output_type": "stream",
     "text": [
      "c:\\users\\anik chakraborty\\appdata\\local\\programs\\python\\python39\\lib\\site-packages\\xgboost\\sklearn.py:1224: UserWarning: The use of label encoder in XGBClassifier is deprecated and will be removed in a future release. To remove this warning, do the following: 1) Pass option use_label_encoder=False when constructing XGBClassifier object; and 2) Encode your labels (y) as integers starting with 0, i.e. 0, 1, 2, ..., [num_class - 1].\n",
      "  warnings.warn(label_encoder_deprecation_msg, UserWarning)\n"
     ]
    },
    {
     "data": {
      "text/plain": [
       "XGBClassifier(base_score=0.5, booster='gbtree', colsample_bylevel=1,\n",
       "              colsample_bynode=1, colsample_bytree=1, enable_categorical=False,\n",
       "              gamma=0, gpu_id=-1, importance_type=None,\n",
       "              interaction_constraints='', learning_rate=0.300000012,\n",
       "              max_delta_step=0, max_depth=6, min_child_weight=1, missing=nan,\n",
       "              monotone_constraints='()', n_estimators=100, n_jobs=4,\n",
       "              num_parallel_tree=1, predictor='auto', random_state=0,\n",
       "              reg_alpha=0, reg_lambda=1, scale_pos_weight=1, subsample=1,\n",
       "              tree_method='exact', validate_parameters=1, verbosity=None)"
      ]
     },
     "execution_count": 55,
     "metadata": {},
     "output_type": "execute_result"
    }
   ],
   "source": [
    "xgb = XGBClassifier()\n",
    "xgb.fit(xtrain,ytrain)"
   ]
  },
  {
   "cell_type": "code",
   "execution_count": 56,
   "id": "1f6521fa",
   "metadata": {},
   "outputs": [
    {
     "data": {
      "text/plain": [
       "0.8555555555555555"
      ]
     },
     "execution_count": 56,
     "metadata": {},
     "output_type": "execute_result"
    }
   ],
   "source": [
    "xgb.score(xtest,ytest)"
   ]
  },
  {
   "cell_type": "code",
   "execution_count": 57,
   "id": "d6748552",
   "metadata": {},
   "outputs": [
    {
     "data": {
      "text/plain": [
       "0.9565217391304348"
      ]
     },
     "execution_count": 57,
     "metadata": {},
     "output_type": "execute_result"
    }
   ],
   "source": [
    "xgb.score(x,y)"
   ]
  },
  {
   "cell_type": "code",
   "execution_count": null,
   "id": "356014cd",
   "metadata": {},
   "outputs": [],
   "source": []
  }
 ],
 "metadata": {
  "kernelspec": {
   "display_name": "Python 3 (ipykernel)",
   "language": "python",
   "name": "python3"
  },
  "language_info": {
   "codemirror_mode": {
    "name": "ipython",
    "version": 3
   },
   "file_extension": ".py",
   "mimetype": "text/x-python",
   "name": "python",
   "nbconvert_exporter": "python",
   "pygments_lexer": "ipython3",
   "version": "3.9.5"
  }
 },
 "nbformat": 4,
 "nbformat_minor": 5
}

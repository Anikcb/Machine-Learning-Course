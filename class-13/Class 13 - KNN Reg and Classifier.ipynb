{
 "cells": [
  {
   "cell_type": "code",
   "execution_count": 1,
   "id": "6e98d425",
   "metadata": {},
   "outputs": [],
   "source": [
    "import pandas as pd"
   ]
  },
  {
   "cell_type": "code",
   "execution_count": 2,
   "id": "85583d2d",
   "metadata": {},
   "outputs": [],
   "source": [
    "df = pd.read_csv('weight-height.csv')"
   ]
  },
  {
   "cell_type": "code",
   "execution_count": 3,
   "id": "e719d2db",
   "metadata": {},
   "outputs": [
    {
     "data": {
      "text/html": [
       "<div>\n",
       "<style scoped>\n",
       "    .dataframe tbody tr th:only-of-type {\n",
       "        vertical-align: middle;\n",
       "    }\n",
       "\n",
       "    .dataframe tbody tr th {\n",
       "        vertical-align: top;\n",
       "    }\n",
       "\n",
       "    .dataframe thead th {\n",
       "        text-align: right;\n",
       "    }\n",
       "</style>\n",
       "<table border=\"1\" class=\"dataframe\">\n",
       "  <thead>\n",
       "    <tr style=\"text-align: right;\">\n",
       "      <th></th>\n",
       "      <th>Gender</th>\n",
       "      <th>Height</th>\n",
       "      <th>Weight</th>\n",
       "    </tr>\n",
       "  </thead>\n",
       "  <tbody>\n",
       "    <tr>\n",
       "      <th>0</th>\n",
       "      <td>Male</td>\n",
       "      <td>73.847017</td>\n",
       "      <td>241.893563</td>\n",
       "    </tr>\n",
       "    <tr>\n",
       "      <th>1</th>\n",
       "      <td>Male</td>\n",
       "      <td>68.781904</td>\n",
       "      <td>162.310473</td>\n",
       "    </tr>\n",
       "    <tr>\n",
       "      <th>2</th>\n",
       "      <td>Male</td>\n",
       "      <td>74.110105</td>\n",
       "      <td>212.740856</td>\n",
       "    </tr>\n",
       "    <tr>\n",
       "      <th>3</th>\n",
       "      <td>Male</td>\n",
       "      <td>71.730978</td>\n",
       "      <td>220.042470</td>\n",
       "    </tr>\n",
       "    <tr>\n",
       "      <th>4</th>\n",
       "      <td>Male</td>\n",
       "      <td>69.881796</td>\n",
       "      <td>206.349801</td>\n",
       "    </tr>\n",
       "  </tbody>\n",
       "</table>\n",
       "</div>"
      ],
      "text/plain": [
       "  Gender     Height      Weight\n",
       "0   Male  73.847017  241.893563\n",
       "1   Male  68.781904  162.310473\n",
       "2   Male  74.110105  212.740856\n",
       "3   Male  71.730978  220.042470\n",
       "4   Male  69.881796  206.349801"
      ]
     },
     "execution_count": 3,
     "metadata": {},
     "output_type": "execute_result"
    }
   ],
   "source": [
    "df.head()"
   ]
  },
  {
   "cell_type": "code",
   "execution_count": 4,
   "id": "8d39586a",
   "metadata": {},
   "outputs": [],
   "source": [
    "from sklearn.preprocessing import LabelEncoder"
   ]
  },
  {
   "cell_type": "code",
   "execution_count": 5,
   "id": "c37487e3",
   "metadata": {},
   "outputs": [],
   "source": [
    "label = LabelEncoder()"
   ]
  },
  {
   "cell_type": "code",
   "execution_count": 6,
   "id": "6ec2fa96",
   "metadata": {},
   "outputs": [],
   "source": [
    "df.Gender = label.fit_transform(df['Gender'])"
   ]
  },
  {
   "cell_type": "code",
   "execution_count": 7,
   "id": "ce10bf1f",
   "metadata": {},
   "outputs": [
    {
     "data": {
      "text/html": [
       "<div>\n",
       "<style scoped>\n",
       "    .dataframe tbody tr th:only-of-type {\n",
       "        vertical-align: middle;\n",
       "    }\n",
       "\n",
       "    .dataframe tbody tr th {\n",
       "        vertical-align: top;\n",
       "    }\n",
       "\n",
       "    .dataframe thead th {\n",
       "        text-align: right;\n",
       "    }\n",
       "</style>\n",
       "<table border=\"1\" class=\"dataframe\">\n",
       "  <thead>\n",
       "    <tr style=\"text-align: right;\">\n",
       "      <th></th>\n",
       "      <th>Gender</th>\n",
       "      <th>Height</th>\n",
       "      <th>Weight</th>\n",
       "    </tr>\n",
       "  </thead>\n",
       "  <tbody>\n",
       "    <tr>\n",
       "      <th>0</th>\n",
       "      <td>1</td>\n",
       "      <td>73.847017</td>\n",
       "      <td>241.893563</td>\n",
       "    </tr>\n",
       "    <tr>\n",
       "      <th>1</th>\n",
       "      <td>1</td>\n",
       "      <td>68.781904</td>\n",
       "      <td>162.310473</td>\n",
       "    </tr>\n",
       "    <tr>\n",
       "      <th>2</th>\n",
       "      <td>1</td>\n",
       "      <td>74.110105</td>\n",
       "      <td>212.740856</td>\n",
       "    </tr>\n",
       "    <tr>\n",
       "      <th>3</th>\n",
       "      <td>1</td>\n",
       "      <td>71.730978</td>\n",
       "      <td>220.042470</td>\n",
       "    </tr>\n",
       "    <tr>\n",
       "      <th>4</th>\n",
       "      <td>1</td>\n",
       "      <td>69.881796</td>\n",
       "      <td>206.349801</td>\n",
       "    </tr>\n",
       "  </tbody>\n",
       "</table>\n",
       "</div>"
      ],
      "text/plain": [
       "   Gender     Height      Weight\n",
       "0       1  73.847017  241.893563\n",
       "1       1  68.781904  162.310473\n",
       "2       1  74.110105  212.740856\n",
       "3       1  71.730978  220.042470\n",
       "4       1  69.881796  206.349801"
      ]
     },
     "execution_count": 7,
     "metadata": {},
     "output_type": "execute_result"
    }
   ],
   "source": [
    "df.head()"
   ]
  },
  {
   "cell_type": "code",
   "execution_count": 8,
   "id": "b517802b",
   "metadata": {},
   "outputs": [],
   "source": [
    "x = df.drop('Weight',axis=1)\n",
    "y = df['Weight']"
   ]
  },
  {
   "cell_type": "code",
   "execution_count": 9,
   "id": "52661a95",
   "metadata": {},
   "outputs": [],
   "source": [
    "# split train and test data\n",
    "from sklearn.model_selection import train_test_split"
   ]
  },
  {
   "cell_type": "code",
   "execution_count": 10,
   "id": "6d894133",
   "metadata": {},
   "outputs": [],
   "source": [
    "xtrain, xtest, ytrain, ytest = train_test_split(x,y,train_size=.70)"
   ]
  },
  {
   "cell_type": "code",
   "execution_count": 11,
   "id": "485907ea",
   "metadata": {},
   "outputs": [],
   "source": [
    "from sklearn.neighbors import KNeighborsRegressor"
   ]
  },
  {
   "cell_type": "code",
   "execution_count": 12,
   "id": "b19aa423",
   "metadata": {},
   "outputs": [],
   "source": [
    "knn_reg = KNeighborsRegressor()"
   ]
  },
  {
   "cell_type": "code",
   "execution_count": 13,
   "id": "91f4916e",
   "metadata": {},
   "outputs": [
    {
     "data": {
      "text/plain": [
       "KNeighborsRegressor()"
      ]
     },
     "execution_count": 13,
     "metadata": {},
     "output_type": "execute_result"
    }
   ],
   "source": [
    "knn_reg.fit(xtrain,ytrain)"
   ]
  },
  {
   "cell_type": "code",
   "execution_count": 14,
   "id": "14b33d86",
   "metadata": {},
   "outputs": [
    {
     "data": {
      "text/plain": [
       "0.8779125784378923"
      ]
     },
     "execution_count": 14,
     "metadata": {},
     "output_type": "execute_result"
    }
   ],
   "source": [
    "knn_reg.score(xtest,ytest)"
   ]
  },
  {
   "cell_type": "code",
   "execution_count": 15,
   "id": "df905e8d",
   "metadata": {},
   "outputs": [],
   "source": [
    "pred = knn_reg.predict(xtest)"
   ]
  },
  {
   "cell_type": "markdown",
   "id": "0dd3d36d",
   "metadata": {},
   "source": [
    "# Mean squared error"
   ]
  },
  {
   "cell_type": "code",
   "execution_count": 16,
   "id": "be78d7ec",
   "metadata": {},
   "outputs": [],
   "source": [
    "from sklearn.metrics import mean_squared_error"
   ]
  },
  {
   "cell_type": "code",
   "execution_count": 17,
   "id": "6d7b5b68",
   "metadata": {},
   "outputs": [],
   "source": [
    "mse = mean_squared_error(ytest,pred)"
   ]
  },
  {
   "cell_type": "code",
   "execution_count": 18,
   "id": "f9c00fe3",
   "metadata": {},
   "outputs": [
    {
     "data": {
      "text/plain": [
       "130.01516301095188"
      ]
     },
     "execution_count": 18,
     "metadata": {},
     "output_type": "execute_result"
    }
   ],
   "source": [
    "mse"
   ]
  },
  {
   "cell_type": "code",
   "execution_count": 19,
   "id": "725abab9",
   "metadata": {},
   "outputs": [],
   "source": [
    "import math"
   ]
  },
  {
   "cell_type": "code",
   "execution_count": 20,
   "id": "2f28871a",
   "metadata": {},
   "outputs": [],
   "source": [
    "rmse = math.sqrt(mse)"
   ]
  },
  {
   "cell_type": "code",
   "execution_count": 21,
   "id": "d347dfb6",
   "metadata": {},
   "outputs": [
    {
     "data": {
      "text/plain": [
       "11.402419173620652"
      ]
     },
     "execution_count": 21,
     "metadata": {},
     "output_type": "execute_result"
    }
   ],
   "source": [
    "rmse"
   ]
  },
  {
   "cell_type": "markdown",
   "id": "9bd8903f",
   "metadata": {},
   "source": [
    "# Linear Regression"
   ]
  },
  {
   "cell_type": "code",
   "execution_count": 22,
   "id": "adadd722",
   "metadata": {},
   "outputs": [],
   "source": [
    "#Linear Regression\n",
    "from sklearn.linear_model import LinearRegression"
   ]
  },
  {
   "cell_type": "code",
   "execution_count": 23,
   "id": "58514a4f",
   "metadata": {},
   "outputs": [],
   "source": [
    "reg = LinearRegression()"
   ]
  },
  {
   "cell_type": "code",
   "execution_count": 24,
   "id": "3b6739ee",
   "metadata": {},
   "outputs": [
    {
     "data": {
      "text/plain": [
       "LinearRegression()"
      ]
     },
     "execution_count": 24,
     "metadata": {},
     "output_type": "execute_result"
    }
   ],
   "source": [
    "reg.fit(xtrain,ytrain) #training your ml model"
   ]
  },
  {
   "cell_type": "code",
   "execution_count": 25,
   "id": "64660e6f",
   "metadata": {},
   "outputs": [
    {
     "data": {
      "text/plain": [
       "0.8994876010971853"
      ]
     },
     "execution_count": 25,
     "metadata": {},
     "output_type": "execute_result"
    }
   ],
   "source": [
    "reg.score(xtest,ytest)"
   ]
  },
  {
   "cell_type": "code",
   "execution_count": 26,
   "id": "e068d641",
   "metadata": {},
   "outputs": [
    {
     "data": {
      "text/plain": [
       "107.03916718663211"
      ]
     },
     "execution_count": 26,
     "metadata": {},
     "output_type": "execute_result"
    }
   ],
   "source": [
    "pred2 = reg.predict(xtest)\n",
    "mse2 = mean_squared_error(ytest,pred2)\n",
    "mse2"
   ]
  },
  {
   "cell_type": "code",
   "execution_count": 27,
   "id": "81203fc8",
   "metadata": {},
   "outputs": [],
   "source": [
    "rmse2 = math.sqrt(mse2)"
   ]
  },
  {
   "cell_type": "code",
   "execution_count": 28,
   "id": "42be6a95",
   "metadata": {},
   "outputs": [
    {
     "data": {
      "text/plain": [
       "10.345973476992492"
      ]
     },
     "execution_count": 28,
     "metadata": {},
     "output_type": "execute_result"
    }
   ],
   "source": [
    "rmse2"
   ]
  },
  {
   "cell_type": "markdown",
   "id": "772813af",
   "metadata": {},
   "source": [
    "# Hyper Parameter Optimization"
   ]
  },
  {
   "cell_type": "markdown",
   "id": "0cb86813",
   "metadata": {},
   "source": [
    "# Randomized Search CV"
   ]
  },
  {
   "cell_type": "code",
   "execution_count": 29,
   "id": "1df70a55",
   "metadata": {},
   "outputs": [],
   "source": [
    "import numpy as np\n",
    "from sklearn.model_selection import RandomizedSearchCV"
   ]
  },
  {
   "cell_type": "code",
   "execution_count": 30,
   "id": "b76b017e",
   "metadata": {},
   "outputs": [],
   "source": [
    "n_neighbors = np.random.randint(1,200,20)\n",
    "\n",
    "# Create ids\n",
    "grids = {'n_neighbors': n_neighbors\n",
    "        }"
   ]
  },
  {
   "cell_type": "code",
   "execution_count": 31,
   "id": "e9b54e96",
   "metadata": {},
   "outputs": [],
   "source": [
    "knn_reg2 = KNeighborsRegressor()"
   ]
  },
  {
   "cell_type": "code",
   "execution_count": 32,
   "id": "3132af21",
   "metadata": {},
   "outputs": [],
   "source": [
    "rmcv = RandomizedSearchCV(knn_reg2, grids, n_iter=200, cv=5)"
   ]
  },
  {
   "cell_type": "code",
   "execution_count": 33,
   "id": "1baf18f7",
   "metadata": {},
   "outputs": [
    {
     "name": "stderr",
     "output_type": "stream",
     "text": [
      "C:\\ProgramData\\Anaconda3\\lib\\site-packages\\sklearn\\model_selection\\_search.py:285: UserWarning: The total space of parameters 20 is smaller than n_iter=200. Running 20 iterations. For exhaustive searches, use GridSearchCV.\n",
      "  warnings.warn(\n"
     ]
    },
    {
     "data": {
      "text/plain": [
       "RandomizedSearchCV(cv=5, estimator=KNeighborsRegressor(), n_iter=200,\n",
       "                   param_distributions={'n_neighbors': array([ 52,  26,   6, 124, 113, 149, 127, 176, 142, 162,  55, 109, 110,\n",
       "       160, 133, 175,   2,  67, 137, 103])})"
      ]
     },
     "execution_count": 33,
     "metadata": {},
     "output_type": "execute_result"
    }
   ],
   "source": [
    "rmcv.fit(xtrain,ytrain)"
   ]
  },
  {
   "cell_type": "code",
   "execution_count": 34,
   "id": "76028a38",
   "metadata": {},
   "outputs": [],
   "source": [
    "#rmcv.cv_results_"
   ]
  },
  {
   "cell_type": "code",
   "execution_count": 35,
   "id": "8e5a13c3",
   "metadata": {},
   "outputs": [],
   "source": [
    "results = pd.DataFrame(rmcv.cv_results_)\n",
    "#results"
   ]
  },
  {
   "cell_type": "code",
   "execution_count": 36,
   "id": "7bc56aa8",
   "metadata": {},
   "outputs": [
    {
     "data": {
      "text/plain": [
       "{'n_neighbors': 52}"
      ]
     },
     "execution_count": 36,
     "metadata": {},
     "output_type": "execute_result"
    }
   ],
   "source": [
    "rmcv.best_params_"
   ]
  },
  {
   "cell_type": "code",
   "execution_count": 37,
   "id": "e2c05f72",
   "metadata": {},
   "outputs": [
    {
     "data": {
      "text/plain": [
       "KNeighborsRegressor(n_neighbors=52)"
      ]
     },
     "execution_count": 37,
     "metadata": {},
     "output_type": "execute_result"
    }
   ],
   "source": [
    "rmcv.best_estimator_"
   ]
  },
  {
   "cell_type": "code",
   "execution_count": 38,
   "id": "0e1d6d10",
   "metadata": {},
   "outputs": [
    {
     "data": {
      "text/plain": [
       "0.8970429572530874"
      ]
     },
     "execution_count": 38,
     "metadata": {},
     "output_type": "execute_result"
    }
   ],
   "source": [
    "rmcv.best_score_"
   ]
  },
  {
   "cell_type": "code",
   "execution_count": 39,
   "id": "c8ae81a8",
   "metadata": {},
   "outputs": [],
   "source": [
    "best = rmcv.best_estimator_"
   ]
  },
  {
   "cell_type": "code",
   "execution_count": 40,
   "id": "7e080f20",
   "metadata": {},
   "outputs": [
    {
     "data": {
      "text/plain": [
       "0.895471907119868"
      ]
     },
     "execution_count": 40,
     "metadata": {},
     "output_type": "execute_result"
    }
   ],
   "source": [
    "best.score(xtest,ytest) #best = KNeighborsRegressor(n_neighbors=55)"
   ]
  },
  {
   "cell_type": "markdown",
   "id": "60f76c49",
   "metadata": {},
   "source": [
    "# Use GridSearchCV"
   ]
  },
  {
   "cell_type": "code",
   "execution_count": 41,
   "id": "d9856adb",
   "metadata": {},
   "outputs": [],
   "source": [
    "from sklearn.model_selection import GridSearchCV"
   ]
  },
  {
   "cell_type": "code",
   "execution_count": 42,
   "id": "7a0394fb",
   "metadata": {},
   "outputs": [],
   "source": [
    "gscv = GridSearchCV(knn_reg2, grids, cv=3)"
   ]
  },
  {
   "cell_type": "code",
   "execution_count": 43,
   "id": "76abdb40",
   "metadata": {},
   "outputs": [
    {
     "data": {
      "text/plain": [
       "GridSearchCV(cv=3, estimator=KNeighborsRegressor(),\n",
       "             param_grid={'n_neighbors': array([ 52,  26,   6, 124, 113, 149, 127, 176, 142, 162,  55, 109, 110,\n",
       "       160, 133, 175,   2,  67, 137, 103])})"
      ]
     },
     "execution_count": 43,
     "metadata": {},
     "output_type": "execute_result"
    }
   ],
   "source": [
    "gscv.fit(xtrain,ytrain)"
   ]
  },
  {
   "cell_type": "code",
   "execution_count": 44,
   "id": "d5178191",
   "metadata": {},
   "outputs": [
    {
     "data": {
      "text/plain": [
       "{'mean_fit_time': array([0.00731397, 0.01041516, 0.01562158, 0.        , 0.        ,\n",
       "        0.00520802, 0.01041166, 0.00753514, 0.00520643, 0.01041182,\n",
       "        0.00520531, 0.01041587, 0.        , 0.01041428, 0.01041476,\n",
       "        0.00520738, 0.01562166, 0.00520706, 0.01042573, 0.00520412]),\n",
       " 'std_fit_time': array([5.23545360e-03, 7.36462793e-03, 2.97360213e-07, 0.00000000e+00,\n",
       "        0.00000000e+00, 7.36524607e-03, 7.36215600e-03, 6.39125058e-03,\n",
       "        7.36299824e-03, 7.36226823e-03, 7.36142476e-03, 7.36513405e-03,\n",
       "        0.00000000e+00, 7.36400977e-03, 7.36434695e-03, 7.36434694e-03,\n",
       "        3.89335909e-07, 7.36389737e-03, 7.37211384e-03, 7.35973888e-03]),\n",
       " 'mean_score_time': array([0.02672021, 0.01562063, 0.00520754, 0.06248514, 0.05727808,\n",
       "        0.06248418, 0.05725423, 0.07461866, 0.05727935, 0.06769482,\n",
       "        0.0260373 , 0.047369  , 0.0520703 , 0.06248466, 0.05727768,\n",
       "        0.06769212, 0.        , 0.0260361 , 0.05726918, 0.04686395]),\n",
       " 'std_score_time': array([6.87635261e-03, 4.08957174e-06, 7.36457172e-03, 5.37133066e-06,\n",
       "        7.36299825e-03, 8.99132768e-07, 7.34774084e-03, 4.09768643e-03,\n",
       "        7.36406599e-03, 7.36176224e-03, 7.36485992e-03, 7.14810657e-04,\n",
       "        7.36665102e-03, 3.12278791e-06, 7.36457172e-03, 7.36400977e-03,\n",
       "        0.00000000e+00, 7.36142492e-03, 7.35604946e-03, 2.89606341e-05]),\n",
       " 'param_n_neighbors': masked_array(data=[52, 26, 6, 124, 113, 149, 127, 176, 142, 162, 55, 109,\n",
       "                    110, 160, 133, 175, 2, 67, 137, 103],\n",
       "              mask=[False, False, False, False, False, False, False, False,\n",
       "                    False, False, False, False, False, False, False, False,\n",
       "                    False, False, False, False],\n",
       "        fill_value='?',\n",
       "             dtype=object),\n",
       " 'params': [{'n_neighbors': 52},\n",
       "  {'n_neighbors': 26},\n",
       "  {'n_neighbors': 6},\n",
       "  {'n_neighbors': 124},\n",
       "  {'n_neighbors': 113},\n",
       "  {'n_neighbors': 149},\n",
       "  {'n_neighbors': 127},\n",
       "  {'n_neighbors': 176},\n",
       "  {'n_neighbors': 142},\n",
       "  {'n_neighbors': 162},\n",
       "  {'n_neighbors': 55},\n",
       "  {'n_neighbors': 109},\n",
       "  {'n_neighbors': 110},\n",
       "  {'n_neighbors': 160},\n",
       "  {'n_neighbors': 133},\n",
       "  {'n_neighbors': 175},\n",
       "  {'n_neighbors': 2},\n",
       "  {'n_neighbors': 67},\n",
       "  {'n_neighbors': 137},\n",
       "  {'n_neighbors': 103}],\n",
       " 'split0_test_score': array([0.89396494, 0.89311235, 0.87794771, 0.89158668, 0.89208559,\n",
       "        0.89007012, 0.89143208, 0.88859501, 0.89043385, 0.88934691,\n",
       "        0.89376528, 0.89196564, 0.8920092 , 0.88941355, 0.89111727,\n",
       "        0.88866179, 0.85087457, 0.89361413, 0.89082203, 0.89217836]),\n",
       " 'split1_test_score': array([0.90012262, 0.90037557, 0.88742105, 0.89453231, 0.89523744,\n",
       "        0.89267436, 0.89444068, 0.89071493, 0.89311333, 0.89176591,\n",
       "        0.8999134 , 0.89540018, 0.89534987, 0.8918391 , 0.89388532,\n",
       "        0.89073025, 0.85745013, 0.89884662, 0.89354699, 0.89577162]),\n",
       " 'split2_test_score': array([0.89346893, 0.89279274, 0.88174691, 0.8908169 , 0.89131487,\n",
       "        0.88950629, 0.89063538, 0.88782512, 0.88999752, 0.88870627,\n",
       "        0.89364966, 0.8912905 , 0.89133603, 0.88885221, 0.89040328,\n",
       "        0.88790974, 0.84641976, 0.89322133, 0.8901246 , 0.89167765]),\n",
       " 'mean_test_score': array([0.89585216, 0.89542689, 0.88237189, 0.89231196, 0.8928793 ,\n",
       "        0.89075026, 0.89216938, 0.88904502, 0.89118157, 0.8899397 ,\n",
       "        0.89577611, 0.89288544, 0.89289837, 0.89003495, 0.89180196,\n",
       "        0.88910059, 0.85158149, 0.89522736, 0.89149788, 0.89320921]),\n",
       " 'std_test_score': array([0.00302645, 0.00350168, 0.00389264, 0.00160117, 0.00169688,\n",
       "        0.00137988, 0.00163866, 0.00122192, 0.00137753, 0.00131755,\n",
       "        0.00292588, 0.00179942, 0.00175512, 0.00129614, 0.00150172,\n",
       "        0.00119254, 0.00453079, 0.00256422, 0.00147665, 0.00182339]),\n",
       " 'rank_test_score': array([ 1,  3, 19,  9,  8, 14, 10, 18, 13, 16,  2,  7,  6, 15, 11, 17, 20,\n",
       "         4, 12,  5])}"
      ]
     },
     "execution_count": 44,
     "metadata": {},
     "output_type": "execute_result"
    }
   ],
   "source": [
    "gscv.cv_results_"
   ]
  },
  {
   "cell_type": "code",
   "execution_count": 45,
   "id": "54604bb2",
   "metadata": {},
   "outputs": [
    {
     "data": {
      "text/html": [
       "<div>\n",
       "<style scoped>\n",
       "    .dataframe tbody tr th:only-of-type {\n",
       "        vertical-align: middle;\n",
       "    }\n",
       "\n",
       "    .dataframe tbody tr th {\n",
       "        vertical-align: top;\n",
       "    }\n",
       "\n",
       "    .dataframe thead th {\n",
       "        text-align: right;\n",
       "    }\n",
       "</style>\n",
       "<table border=\"1\" class=\"dataframe\">\n",
       "  <thead>\n",
       "    <tr style=\"text-align: right;\">\n",
       "      <th></th>\n",
       "      <th>mean_fit_time</th>\n",
       "      <th>std_fit_time</th>\n",
       "      <th>mean_score_time</th>\n",
       "      <th>std_score_time</th>\n",
       "      <th>param_n_neighbors</th>\n",
       "      <th>params</th>\n",
       "      <th>split0_test_score</th>\n",
       "      <th>split1_test_score</th>\n",
       "      <th>split2_test_score</th>\n",
       "      <th>mean_test_score</th>\n",
       "      <th>std_test_score</th>\n",
       "      <th>rank_test_score</th>\n",
       "    </tr>\n",
       "  </thead>\n",
       "  <tbody>\n",
       "    <tr>\n",
       "      <th>0</th>\n",
       "      <td>0.007314</td>\n",
       "      <td>5.235454e-03</td>\n",
       "      <td>0.026720</td>\n",
       "      <td>6.876353e-03</td>\n",
       "      <td>52</td>\n",
       "      <td>{'n_neighbors': 52}</td>\n",
       "      <td>0.893965</td>\n",
       "      <td>0.900123</td>\n",
       "      <td>0.893469</td>\n",
       "      <td>0.895852</td>\n",
       "      <td>0.003026</td>\n",
       "      <td>1</td>\n",
       "    </tr>\n",
       "    <tr>\n",
       "      <th>1</th>\n",
       "      <td>0.010415</td>\n",
       "      <td>7.364628e-03</td>\n",
       "      <td>0.015621</td>\n",
       "      <td>4.089572e-06</td>\n",
       "      <td>26</td>\n",
       "      <td>{'n_neighbors': 26}</td>\n",
       "      <td>0.893112</td>\n",
       "      <td>0.900376</td>\n",
       "      <td>0.892793</td>\n",
       "      <td>0.895427</td>\n",
       "      <td>0.003502</td>\n",
       "      <td>3</td>\n",
       "    </tr>\n",
       "    <tr>\n",
       "      <th>2</th>\n",
       "      <td>0.015622</td>\n",
       "      <td>2.973602e-07</td>\n",
       "      <td>0.005208</td>\n",
       "      <td>7.364572e-03</td>\n",
       "      <td>6</td>\n",
       "      <td>{'n_neighbors': 6}</td>\n",
       "      <td>0.877948</td>\n",
       "      <td>0.887421</td>\n",
       "      <td>0.881747</td>\n",
       "      <td>0.882372</td>\n",
       "      <td>0.003893</td>\n",
       "      <td>19</td>\n",
       "    </tr>\n",
       "    <tr>\n",
       "      <th>3</th>\n",
       "      <td>0.000000</td>\n",
       "      <td>0.000000e+00</td>\n",
       "      <td>0.062485</td>\n",
       "      <td>5.371331e-06</td>\n",
       "      <td>124</td>\n",
       "      <td>{'n_neighbors': 124}</td>\n",
       "      <td>0.891587</td>\n",
       "      <td>0.894532</td>\n",
       "      <td>0.890817</td>\n",
       "      <td>0.892312</td>\n",
       "      <td>0.001601</td>\n",
       "      <td>9</td>\n",
       "    </tr>\n",
       "    <tr>\n",
       "      <th>4</th>\n",
       "      <td>0.000000</td>\n",
       "      <td>0.000000e+00</td>\n",
       "      <td>0.057278</td>\n",
       "      <td>7.362998e-03</td>\n",
       "      <td>113</td>\n",
       "      <td>{'n_neighbors': 113}</td>\n",
       "      <td>0.892086</td>\n",
       "      <td>0.895237</td>\n",
       "      <td>0.891315</td>\n",
       "      <td>0.892879</td>\n",
       "      <td>0.001697</td>\n",
       "      <td>8</td>\n",
       "    </tr>\n",
       "    <tr>\n",
       "      <th>5</th>\n",
       "      <td>0.005208</td>\n",
       "      <td>7.365246e-03</td>\n",
       "      <td>0.062484</td>\n",
       "      <td>8.991328e-07</td>\n",
       "      <td>149</td>\n",
       "      <td>{'n_neighbors': 149}</td>\n",
       "      <td>0.890070</td>\n",
       "      <td>0.892674</td>\n",
       "      <td>0.889506</td>\n",
       "      <td>0.890750</td>\n",
       "      <td>0.001380</td>\n",
       "      <td>14</td>\n",
       "    </tr>\n",
       "    <tr>\n",
       "      <th>6</th>\n",
       "      <td>0.010412</td>\n",
       "      <td>7.362156e-03</td>\n",
       "      <td>0.057254</td>\n",
       "      <td>7.347741e-03</td>\n",
       "      <td>127</td>\n",
       "      <td>{'n_neighbors': 127}</td>\n",
       "      <td>0.891432</td>\n",
       "      <td>0.894441</td>\n",
       "      <td>0.890635</td>\n",
       "      <td>0.892169</td>\n",
       "      <td>0.001639</td>\n",
       "      <td>10</td>\n",
       "    </tr>\n",
       "    <tr>\n",
       "      <th>7</th>\n",
       "      <td>0.007535</td>\n",
       "      <td>6.391251e-03</td>\n",
       "      <td>0.074619</td>\n",
       "      <td>4.097686e-03</td>\n",
       "      <td>176</td>\n",
       "      <td>{'n_neighbors': 176}</td>\n",
       "      <td>0.888595</td>\n",
       "      <td>0.890715</td>\n",
       "      <td>0.887825</td>\n",
       "      <td>0.889045</td>\n",
       "      <td>0.001222</td>\n",
       "      <td>18</td>\n",
       "    </tr>\n",
       "    <tr>\n",
       "      <th>8</th>\n",
       "      <td>0.005206</td>\n",
       "      <td>7.362998e-03</td>\n",
       "      <td>0.057279</td>\n",
       "      <td>7.364066e-03</td>\n",
       "      <td>142</td>\n",
       "      <td>{'n_neighbors': 142}</td>\n",
       "      <td>0.890434</td>\n",
       "      <td>0.893113</td>\n",
       "      <td>0.889998</td>\n",
       "      <td>0.891182</td>\n",
       "      <td>0.001378</td>\n",
       "      <td>13</td>\n",
       "    </tr>\n",
       "    <tr>\n",
       "      <th>9</th>\n",
       "      <td>0.010412</td>\n",
       "      <td>7.362268e-03</td>\n",
       "      <td>0.067695</td>\n",
       "      <td>7.361762e-03</td>\n",
       "      <td>162</td>\n",
       "      <td>{'n_neighbors': 162}</td>\n",
       "      <td>0.889347</td>\n",
       "      <td>0.891766</td>\n",
       "      <td>0.888706</td>\n",
       "      <td>0.889940</td>\n",
       "      <td>0.001318</td>\n",
       "      <td>16</td>\n",
       "    </tr>\n",
       "    <tr>\n",
       "      <th>10</th>\n",
       "      <td>0.005205</td>\n",
       "      <td>7.361425e-03</td>\n",
       "      <td>0.026037</td>\n",
       "      <td>7.364860e-03</td>\n",
       "      <td>55</td>\n",
       "      <td>{'n_neighbors': 55}</td>\n",
       "      <td>0.893765</td>\n",
       "      <td>0.899913</td>\n",
       "      <td>0.893650</td>\n",
       "      <td>0.895776</td>\n",
       "      <td>0.002926</td>\n",
       "      <td>2</td>\n",
       "    </tr>\n",
       "    <tr>\n",
       "      <th>11</th>\n",
       "      <td>0.010416</td>\n",
       "      <td>7.365134e-03</td>\n",
       "      <td>0.047369</td>\n",
       "      <td>7.148107e-04</td>\n",
       "      <td>109</td>\n",
       "      <td>{'n_neighbors': 109}</td>\n",
       "      <td>0.891966</td>\n",
       "      <td>0.895400</td>\n",
       "      <td>0.891290</td>\n",
       "      <td>0.892885</td>\n",
       "      <td>0.001799</td>\n",
       "      <td>7</td>\n",
       "    </tr>\n",
       "    <tr>\n",
       "      <th>12</th>\n",
       "      <td>0.000000</td>\n",
       "      <td>0.000000e+00</td>\n",
       "      <td>0.052070</td>\n",
       "      <td>7.366651e-03</td>\n",
       "      <td>110</td>\n",
       "      <td>{'n_neighbors': 110}</td>\n",
       "      <td>0.892009</td>\n",
       "      <td>0.895350</td>\n",
       "      <td>0.891336</td>\n",
       "      <td>0.892898</td>\n",
       "      <td>0.001755</td>\n",
       "      <td>6</td>\n",
       "    </tr>\n",
       "    <tr>\n",
       "      <th>13</th>\n",
       "      <td>0.010414</td>\n",
       "      <td>7.364010e-03</td>\n",
       "      <td>0.062485</td>\n",
       "      <td>3.122788e-06</td>\n",
       "      <td>160</td>\n",
       "      <td>{'n_neighbors': 160}</td>\n",
       "      <td>0.889414</td>\n",
       "      <td>0.891839</td>\n",
       "      <td>0.888852</td>\n",
       "      <td>0.890035</td>\n",
       "      <td>0.001296</td>\n",
       "      <td>15</td>\n",
       "    </tr>\n",
       "    <tr>\n",
       "      <th>14</th>\n",
       "      <td>0.010415</td>\n",
       "      <td>7.364347e-03</td>\n",
       "      <td>0.057278</td>\n",
       "      <td>7.364572e-03</td>\n",
       "      <td>133</td>\n",
       "      <td>{'n_neighbors': 133}</td>\n",
       "      <td>0.891117</td>\n",
       "      <td>0.893885</td>\n",
       "      <td>0.890403</td>\n",
       "      <td>0.891802</td>\n",
       "      <td>0.001502</td>\n",
       "      <td>11</td>\n",
       "    </tr>\n",
       "    <tr>\n",
       "      <th>15</th>\n",
       "      <td>0.005207</td>\n",
       "      <td>7.364347e-03</td>\n",
       "      <td>0.067692</td>\n",
       "      <td>7.364010e-03</td>\n",
       "      <td>175</td>\n",
       "      <td>{'n_neighbors': 175}</td>\n",
       "      <td>0.888662</td>\n",
       "      <td>0.890730</td>\n",
       "      <td>0.887910</td>\n",
       "      <td>0.889101</td>\n",
       "      <td>0.001193</td>\n",
       "      <td>17</td>\n",
       "    </tr>\n",
       "    <tr>\n",
       "      <th>16</th>\n",
       "      <td>0.015622</td>\n",
       "      <td>3.893359e-07</td>\n",
       "      <td>0.000000</td>\n",
       "      <td>0.000000e+00</td>\n",
       "      <td>2</td>\n",
       "      <td>{'n_neighbors': 2}</td>\n",
       "      <td>0.850875</td>\n",
       "      <td>0.857450</td>\n",
       "      <td>0.846420</td>\n",
       "      <td>0.851581</td>\n",
       "      <td>0.004531</td>\n",
       "      <td>20</td>\n",
       "    </tr>\n",
       "    <tr>\n",
       "      <th>17</th>\n",
       "      <td>0.005207</td>\n",
       "      <td>7.363897e-03</td>\n",
       "      <td>0.026036</td>\n",
       "      <td>7.361425e-03</td>\n",
       "      <td>67</td>\n",
       "      <td>{'n_neighbors': 67}</td>\n",
       "      <td>0.893614</td>\n",
       "      <td>0.898847</td>\n",
       "      <td>0.893221</td>\n",
       "      <td>0.895227</td>\n",
       "      <td>0.002564</td>\n",
       "      <td>4</td>\n",
       "    </tr>\n",
       "    <tr>\n",
       "      <th>18</th>\n",
       "      <td>0.010426</td>\n",
       "      <td>7.372114e-03</td>\n",
       "      <td>0.057269</td>\n",
       "      <td>7.356049e-03</td>\n",
       "      <td>137</td>\n",
       "      <td>{'n_neighbors': 137}</td>\n",
       "      <td>0.890822</td>\n",
       "      <td>0.893547</td>\n",
       "      <td>0.890125</td>\n",
       "      <td>0.891498</td>\n",
       "      <td>0.001477</td>\n",
       "      <td>12</td>\n",
       "    </tr>\n",
       "    <tr>\n",
       "      <th>19</th>\n",
       "      <td>0.005204</td>\n",
       "      <td>7.359739e-03</td>\n",
       "      <td>0.046864</td>\n",
       "      <td>2.896063e-05</td>\n",
       "      <td>103</td>\n",
       "      <td>{'n_neighbors': 103}</td>\n",
       "      <td>0.892178</td>\n",
       "      <td>0.895772</td>\n",
       "      <td>0.891678</td>\n",
       "      <td>0.893209</td>\n",
       "      <td>0.001823</td>\n",
       "      <td>5</td>\n",
       "    </tr>\n",
       "  </tbody>\n",
       "</table>\n",
       "</div>"
      ],
      "text/plain": [
       "    mean_fit_time  std_fit_time  mean_score_time  std_score_time  \\\n",
       "0        0.007314  5.235454e-03         0.026720    6.876353e-03   \n",
       "1        0.010415  7.364628e-03         0.015621    4.089572e-06   \n",
       "2        0.015622  2.973602e-07         0.005208    7.364572e-03   \n",
       "3        0.000000  0.000000e+00         0.062485    5.371331e-06   \n",
       "4        0.000000  0.000000e+00         0.057278    7.362998e-03   \n",
       "5        0.005208  7.365246e-03         0.062484    8.991328e-07   \n",
       "6        0.010412  7.362156e-03         0.057254    7.347741e-03   \n",
       "7        0.007535  6.391251e-03         0.074619    4.097686e-03   \n",
       "8        0.005206  7.362998e-03         0.057279    7.364066e-03   \n",
       "9        0.010412  7.362268e-03         0.067695    7.361762e-03   \n",
       "10       0.005205  7.361425e-03         0.026037    7.364860e-03   \n",
       "11       0.010416  7.365134e-03         0.047369    7.148107e-04   \n",
       "12       0.000000  0.000000e+00         0.052070    7.366651e-03   \n",
       "13       0.010414  7.364010e-03         0.062485    3.122788e-06   \n",
       "14       0.010415  7.364347e-03         0.057278    7.364572e-03   \n",
       "15       0.005207  7.364347e-03         0.067692    7.364010e-03   \n",
       "16       0.015622  3.893359e-07         0.000000    0.000000e+00   \n",
       "17       0.005207  7.363897e-03         0.026036    7.361425e-03   \n",
       "18       0.010426  7.372114e-03         0.057269    7.356049e-03   \n",
       "19       0.005204  7.359739e-03         0.046864    2.896063e-05   \n",
       "\n",
       "   param_n_neighbors                params  split0_test_score  \\\n",
       "0                 52   {'n_neighbors': 52}           0.893965   \n",
       "1                 26   {'n_neighbors': 26}           0.893112   \n",
       "2                  6    {'n_neighbors': 6}           0.877948   \n",
       "3                124  {'n_neighbors': 124}           0.891587   \n",
       "4                113  {'n_neighbors': 113}           0.892086   \n",
       "5                149  {'n_neighbors': 149}           0.890070   \n",
       "6                127  {'n_neighbors': 127}           0.891432   \n",
       "7                176  {'n_neighbors': 176}           0.888595   \n",
       "8                142  {'n_neighbors': 142}           0.890434   \n",
       "9                162  {'n_neighbors': 162}           0.889347   \n",
       "10                55   {'n_neighbors': 55}           0.893765   \n",
       "11               109  {'n_neighbors': 109}           0.891966   \n",
       "12               110  {'n_neighbors': 110}           0.892009   \n",
       "13               160  {'n_neighbors': 160}           0.889414   \n",
       "14               133  {'n_neighbors': 133}           0.891117   \n",
       "15               175  {'n_neighbors': 175}           0.888662   \n",
       "16                 2    {'n_neighbors': 2}           0.850875   \n",
       "17                67   {'n_neighbors': 67}           0.893614   \n",
       "18               137  {'n_neighbors': 137}           0.890822   \n",
       "19               103  {'n_neighbors': 103}           0.892178   \n",
       "\n",
       "    split1_test_score  split2_test_score  mean_test_score  std_test_score  \\\n",
       "0            0.900123           0.893469         0.895852        0.003026   \n",
       "1            0.900376           0.892793         0.895427        0.003502   \n",
       "2            0.887421           0.881747         0.882372        0.003893   \n",
       "3            0.894532           0.890817         0.892312        0.001601   \n",
       "4            0.895237           0.891315         0.892879        0.001697   \n",
       "5            0.892674           0.889506         0.890750        0.001380   \n",
       "6            0.894441           0.890635         0.892169        0.001639   \n",
       "7            0.890715           0.887825         0.889045        0.001222   \n",
       "8            0.893113           0.889998         0.891182        0.001378   \n",
       "9            0.891766           0.888706         0.889940        0.001318   \n",
       "10           0.899913           0.893650         0.895776        0.002926   \n",
       "11           0.895400           0.891290         0.892885        0.001799   \n",
       "12           0.895350           0.891336         0.892898        0.001755   \n",
       "13           0.891839           0.888852         0.890035        0.001296   \n",
       "14           0.893885           0.890403         0.891802        0.001502   \n",
       "15           0.890730           0.887910         0.889101        0.001193   \n",
       "16           0.857450           0.846420         0.851581        0.004531   \n",
       "17           0.898847           0.893221         0.895227        0.002564   \n",
       "18           0.893547           0.890125         0.891498        0.001477   \n",
       "19           0.895772           0.891678         0.893209        0.001823   \n",
       "\n",
       "    rank_test_score  \n",
       "0                 1  \n",
       "1                 3  \n",
       "2                19  \n",
       "3                 9  \n",
       "4                 8  \n",
       "5                14  \n",
       "6                10  \n",
       "7                18  \n",
       "8                13  \n",
       "9                16  \n",
       "10                2  \n",
       "11                7  \n",
       "12                6  \n",
       "13               15  \n",
       "14               11  \n",
       "15               17  \n",
       "16               20  \n",
       "17                4  \n",
       "18               12  \n",
       "19                5  "
      ]
     },
     "execution_count": 45,
     "metadata": {},
     "output_type": "execute_result"
    }
   ],
   "source": [
    "result2 = pd.DataFrame(gscv.cv_results_)\n",
    "result2"
   ]
  },
  {
   "cell_type": "code",
   "execution_count": 46,
   "id": "39dbba40",
   "metadata": {},
   "outputs": [
    {
     "data": {
      "text/plain": [
       "0.8958521632117539"
      ]
     },
     "execution_count": 46,
     "metadata": {},
     "output_type": "execute_result"
    }
   ],
   "source": [
    "gscv.best_score_"
   ]
  },
  {
   "cell_type": "code",
   "execution_count": 47,
   "id": "acb076ba",
   "metadata": {},
   "outputs": [
    {
     "data": {
      "text/plain": [
       "KNeighborsRegressor(n_neighbors=52)"
      ]
     },
     "execution_count": 47,
     "metadata": {},
     "output_type": "execute_result"
    }
   ],
   "source": [
    "gscv.best_estimator_"
   ]
  },
  {
   "cell_type": "code",
   "execution_count": 48,
   "id": "1e403473",
   "metadata": {},
   "outputs": [
    {
     "data": {
      "text/plain": [
       "0.895471907119868"
      ]
     },
     "execution_count": 48,
     "metadata": {},
     "output_type": "execute_result"
    }
   ],
   "source": [
    "best2 = gscv.best_estimator_\n",
    "best2.score(xtest,ytest)"
   ]
  },
  {
   "cell_type": "code",
   "execution_count": 84,
   "id": "6c2c2763",
   "metadata": {},
   "outputs": [
    {
     "data": {
      "text/plain": [
       "KNeighborsRegressor(n_neighbors=52)"
      ]
     },
     "execution_count": 84,
     "metadata": {},
     "output_type": "execute_result"
    }
   ],
   "source": [
    "gscv.best_estimator_"
   ]
  },
  {
   "cell_type": "markdown",
   "id": "0d5ca8f1",
   "metadata": {},
   "source": [
    "# KNN Classifier with Python"
   ]
  },
  {
   "cell_type": "code",
   "execution_count": 49,
   "id": "cddd68e6",
   "metadata": {},
   "outputs": [],
   "source": [
    "df = pd.read_csv('weight-height.csv')"
   ]
  },
  {
   "cell_type": "code",
   "execution_count": 50,
   "id": "e87ace67",
   "metadata": {},
   "outputs": [
    {
     "data": {
      "text/html": [
       "<div>\n",
       "<style scoped>\n",
       "    .dataframe tbody tr th:only-of-type {\n",
       "        vertical-align: middle;\n",
       "    }\n",
       "\n",
       "    .dataframe tbody tr th {\n",
       "        vertical-align: top;\n",
       "    }\n",
       "\n",
       "    .dataframe thead th {\n",
       "        text-align: right;\n",
       "    }\n",
       "</style>\n",
       "<table border=\"1\" class=\"dataframe\">\n",
       "  <thead>\n",
       "    <tr style=\"text-align: right;\">\n",
       "      <th></th>\n",
       "      <th>Gender</th>\n",
       "      <th>Height</th>\n",
       "      <th>Weight</th>\n",
       "    </tr>\n",
       "  </thead>\n",
       "  <tbody>\n",
       "    <tr>\n",
       "      <th>0</th>\n",
       "      <td>Male</td>\n",
       "      <td>73.847017</td>\n",
       "      <td>241.893563</td>\n",
       "    </tr>\n",
       "    <tr>\n",
       "      <th>1</th>\n",
       "      <td>Male</td>\n",
       "      <td>68.781904</td>\n",
       "      <td>162.310473</td>\n",
       "    </tr>\n",
       "    <tr>\n",
       "      <th>2</th>\n",
       "      <td>Male</td>\n",
       "      <td>74.110105</td>\n",
       "      <td>212.740856</td>\n",
       "    </tr>\n",
       "    <tr>\n",
       "      <th>3</th>\n",
       "      <td>Male</td>\n",
       "      <td>71.730978</td>\n",
       "      <td>220.042470</td>\n",
       "    </tr>\n",
       "    <tr>\n",
       "      <th>4</th>\n",
       "      <td>Male</td>\n",
       "      <td>69.881796</td>\n",
       "      <td>206.349801</td>\n",
       "    </tr>\n",
       "  </tbody>\n",
       "</table>\n",
       "</div>"
      ],
      "text/plain": [
       "  Gender     Height      Weight\n",
       "0   Male  73.847017  241.893563\n",
       "1   Male  68.781904  162.310473\n",
       "2   Male  74.110105  212.740856\n",
       "3   Male  71.730978  220.042470\n",
       "4   Male  69.881796  206.349801"
      ]
     },
     "execution_count": 50,
     "metadata": {},
     "output_type": "execute_result"
    }
   ],
   "source": [
    "df.head()"
   ]
  },
  {
   "cell_type": "code",
   "execution_count": 51,
   "id": "d0226c0c",
   "metadata": {},
   "outputs": [],
   "source": [
    "import numpy as np\n",
    "import pandas as pd\n",
    "import matplotlib.pyplot as plt\n",
    "import seaborn as sns"
   ]
  },
  {
   "cell_type": "code",
   "execution_count": 52,
   "id": "c025465a",
   "metadata": {},
   "outputs": [
    {
     "data": {
      "text/plain": [
       "<matplotlib.legend.Legend at 0x227c3ee6f70>"
      ]
     },
     "execution_count": 52,
     "metadata": {},
     "output_type": "execute_result"
    },
    {
     "data": {
      "image/png": "[encoded data removed]",
      "text/plain": [
       "<Figure size 432x288 with 1 Axes>"
      ]
     },
     "metadata": {
      "needs_background": "light"
     },
     "output_type": "display_data"
    }
   ],
   "source": [
    "df0 = df[ df.Gender=='Male']\n",
    "df1 = df[ df.Gender=='Female']\n",
    "\n",
    "plt.scatter(df0['Height'],df0['Weight'],color='green',label='Male')\n",
    "plt.scatter(df1['Height'],df1['Weight'],color='orange',label='Female')\n",
    "\n",
    "plt.legend()"
   ]
  },
  {
   "cell_type": "code",
   "execution_count": 53,
   "id": "ea1865bc",
   "metadata": {},
   "outputs": [],
   "source": [
    "df['Gender'] = df.Gender.replace({'Male':0,'Female':1})"
   ]
  },
  {
   "cell_type": "code",
   "execution_count": 54,
   "id": "b9c6c4ef",
   "metadata": {},
   "outputs": [],
   "source": [
    "x = df.drop(['Gender'], axis=1)"
   ]
  },
  {
   "cell_type": "code",
   "execution_count": 55,
   "id": "1cea78fd",
   "metadata": {},
   "outputs": [],
   "source": [
    "y = df.Gender"
   ]
  },
  {
   "cell_type": "code",
   "execution_count": 56,
   "id": "857998dc",
   "metadata": {},
   "outputs": [
    {
     "data": {
      "text/html": [
       "<div>\n",
       "<style scoped>\n",
       "    .dataframe tbody tr th:only-of-type {\n",
       "        vertical-align: middle;\n",
       "    }\n",
       "\n",
       "    .dataframe tbody tr th {\n",
       "        vertical-align: top;\n",
       "    }\n",
       "\n",
       "    .dataframe thead th {\n",
       "        text-align: right;\n",
       "    }\n",
       "</style>\n",
       "<table border=\"1\" class=\"dataframe\">\n",
       "  <thead>\n",
       "    <tr style=\"text-align: right;\">\n",
       "      <th></th>\n",
       "      <th>Height</th>\n",
       "      <th>Weight</th>\n",
       "    </tr>\n",
       "  </thead>\n",
       "  <tbody>\n",
       "    <tr>\n",
       "      <th>0</th>\n",
       "      <td>73.847017</td>\n",
       "      <td>241.893563</td>\n",
       "    </tr>\n",
       "    <tr>\n",
       "      <th>1</th>\n",
       "      <td>68.781904</td>\n",
       "      <td>162.310473</td>\n",
       "    </tr>\n",
       "    <tr>\n",
       "      <th>2</th>\n",
       "      <td>74.110105</td>\n",
       "      <td>212.740856</td>\n",
       "    </tr>\n",
       "    <tr>\n",
       "      <th>3</th>\n",
       "      <td>71.730978</td>\n",
       "      <td>220.042470</td>\n",
       "    </tr>\n",
       "    <tr>\n",
       "      <th>4</th>\n",
       "      <td>69.881796</td>\n",
       "      <td>206.349801</td>\n",
       "    </tr>\n",
       "  </tbody>\n",
       "</table>\n",
       "</div>"
      ],
      "text/plain": [
       "      Height      Weight\n",
       "0  73.847017  241.893563\n",
       "1  68.781904  162.310473\n",
       "2  74.110105  212.740856\n",
       "3  71.730978  220.042470\n",
       "4  69.881796  206.349801"
      ]
     },
     "execution_count": 56,
     "metadata": {},
     "output_type": "execute_result"
    }
   ],
   "source": [
    "x.head()"
   ]
  },
  {
   "cell_type": "code",
   "execution_count": 57,
   "id": "9ab5599b",
   "metadata": {},
   "outputs": [],
   "source": [
    "# split train and test data\n",
    "from sklearn.model_selection import train_test_split"
   ]
  },
  {
   "cell_type": "code",
   "execution_count": 58,
   "id": "9014262d",
   "metadata": {},
   "outputs": [],
   "source": [
    "xtrain, xtest, ytrain, ytest = train_test_split(x,y,train_size=.70)"
   ]
  },
  {
   "cell_type": "code",
   "execution_count": 59,
   "id": "f756713a",
   "metadata": {},
   "outputs": [],
   "source": [
    "from sklearn.neighbors import KNeighborsClassifier"
   ]
  },
  {
   "cell_type": "code",
   "execution_count": 60,
   "id": "a77e737f",
   "metadata": {},
   "outputs": [],
   "source": [
    "knn2 = KNeighborsClassifier()"
   ]
  },
  {
   "cell_type": "code",
   "execution_count": 61,
   "id": "fea8b142",
   "metadata": {},
   "outputs": [
    {
     "data": {
      "text/plain": [
       "KNeighborsClassifier()"
      ]
     },
     "execution_count": 61,
     "metadata": {},
     "output_type": "execute_result"
    }
   ],
   "source": [
    "knn2.fit(xtrain,ytrain)"
   ]
  },
  {
   "cell_type": "code",
   "execution_count": 62,
   "id": "fd8571f0",
   "metadata": {},
   "outputs": [
    {
     "data": {
      "text/plain": [
       "0.9092325671990651"
      ]
     },
     "execution_count": 62,
     "metadata": {},
     "output_type": "execute_result"
    }
   ],
   "source": [
    "knn2.score(xtest,ytest)"
   ]
  },
  {
   "cell_type": "code",
   "execution_count": 63,
   "id": "139bf141",
   "metadata": {},
   "outputs": [
    {
     "data": {
      "text/plain": [
       "array([0, 0, 1, ..., 0, 0, 0], dtype=int64)"
      ]
     },
     "execution_count": 63,
     "metadata": {},
     "output_type": "execute_result"
    }
   ],
   "source": [
    "knn2.predict(xtest)"
   ]
  },
  {
   "cell_type": "code",
   "execution_count": 64,
   "id": "0dfe93d9",
   "metadata": {},
   "outputs": [
    {
     "data": {
      "text/html": [
       "<div>\n",
       "<style scoped>\n",
       "    .dataframe tbody tr th:only-of-type {\n",
       "        vertical-align: middle;\n",
       "    }\n",
       "\n",
       "    .dataframe tbody tr th {\n",
       "        vertical-align: top;\n",
       "    }\n",
       "\n",
       "    .dataframe thead th {\n",
       "        text-align: right;\n",
       "    }\n",
       "</style>\n",
       "<table border=\"1\" class=\"dataframe\">\n",
       "  <thead>\n",
       "    <tr style=\"text-align: right;\">\n",
       "      <th></th>\n",
       "      <th>Height</th>\n",
       "      <th>Weight</th>\n",
       "    </tr>\n",
       "  </thead>\n",
       "  <tbody>\n",
       "    <tr>\n",
       "      <th>4705</th>\n",
       "      <td>71.528424</td>\n",
       "      <td>192.072947</td>\n",
       "    </tr>\n",
       "    <tr>\n",
       "      <th>2722</th>\n",
       "      <td>73.504268</td>\n",
       "      <td>205.473091</td>\n",
       "    </tr>\n",
       "    <tr>\n",
       "      <th>7715</th>\n",
       "      <td>64.922011</td>\n",
       "      <td>126.697343</td>\n",
       "    </tr>\n",
       "    <tr>\n",
       "      <th>4827</th>\n",
       "      <td>65.673643</td>\n",
       "      <td>170.062794</td>\n",
       "    </tr>\n",
       "    <tr>\n",
       "      <th>5062</th>\n",
       "      <td>64.936556</td>\n",
       "      <td>152.419352</td>\n",
       "    </tr>\n",
       "  </tbody>\n",
       "</table>\n",
       "</div>"
      ],
      "text/plain": [
       "         Height      Weight\n",
       "4705  71.528424  192.072947\n",
       "2722  73.504268  205.473091\n",
       "7715  64.922011  126.697343\n",
       "4827  65.673643  170.062794\n",
       "5062  64.936556  152.419352"
      ]
     },
     "execution_count": 64,
     "metadata": {},
     "output_type": "execute_result"
    }
   ],
   "source": [
    "xtest.head()"
   ]
  },
  {
   "cell_type": "markdown",
   "id": "6f72be92",
   "metadata": {},
   "source": [
    "# Save Training Model"
   ]
  },
  {
   "cell_type": "code",
   "execution_count": 65,
   "id": "835929ab",
   "metadata": {},
   "outputs": [
    {
     "data": {
      "text/plain": [
       "['My2']"
      ]
     },
     "execution_count": 65,
     "metadata": {},
     "output_type": "execute_result"
    }
   ],
   "source": [
    "import joblib as jbl\n",
    "jbl.dump(knn2,'My2')"
   ]
  },
  {
   "cell_type": "code",
   "execution_count": 66,
   "id": "62a3aa58",
   "metadata": {},
   "outputs": [],
   "source": [
    "model2 = jbl.load('My2')"
   ]
  },
  {
   "cell_type": "code",
   "execution_count": 67,
   "id": "b630021b",
   "metadata": {},
   "outputs": [
    {
     "data": {
      "text/plain": [
       "array([0], dtype=int64)"
      ]
     },
     "execution_count": 67,
     "metadata": {},
     "output_type": "execute_result"
    }
   ],
   "source": [
    "model2.predict([[71,242]])"
   ]
  },
  {
   "cell_type": "markdown",
   "id": "24fe8866",
   "metadata": {},
   "source": [
    "# Tuning"
   ]
  },
  {
   "cell_type": "code",
   "execution_count": 68,
   "id": "2b957207",
   "metadata": {},
   "outputs": [],
   "source": [
    "knn3 = KNeighborsClassifier()"
   ]
  },
  {
   "cell_type": "markdown",
   "id": "1afdcfae",
   "metadata": {},
   "source": [
    "# Randomized Search CV"
   ]
  },
  {
   "cell_type": "code",
   "execution_count": 69,
   "id": "e9804dc0",
   "metadata": {},
   "outputs": [],
   "source": [
    "rs2 = RandomizedSearchCV(knn3, grids, n_iter=200, cv=5)"
   ]
  },
  {
   "cell_type": "code",
   "execution_count": 70,
   "id": "87190196",
   "metadata": {},
   "outputs": [
    {
     "name": "stderr",
     "output_type": "stream",
     "text": [
      "C:\\ProgramData\\Anaconda3\\lib\\site-packages\\sklearn\\model_selection\\_search.py:285: UserWarning: The total space of parameters 20 is smaller than n_iter=200. Running 20 iterations. For exhaustive searches, use GridSearchCV.\n",
      "  warnings.warn(\n"
     ]
    },
    {
     "data": {
      "text/plain": [
       "RandomizedSearchCV(cv=5, estimator=KNeighborsClassifier(), n_iter=200,\n",
       "                   param_distributions={'n_neighbors': array([ 52,  26,   6, 124, 113, 149, 127, 176, 142, 162,  55, 109, 110,\n",
       "       160, 133, 175,   2,  67, 137, 103])})"
      ]
     },
     "execution_count": 70,
     "metadata": {},
     "output_type": "execute_result"
    }
   ],
   "source": [
    "rs2.fit(xtrain,ytrain)"
   ]
  },
  {
   "cell_type": "code",
   "execution_count": 71,
   "id": "684fc94a",
   "metadata": {},
   "outputs": [
    {
     "data": {
      "text/plain": [
       "{'mean_fit_time': array([0.0073122 , 0.00624161, 0.00937667, 0.01018834, 0.00937295,\n",
       "        0.00936551, 0.00624981, 0.00625076, 0.00860243, 0.        ,\n",
       "        0.00625544, 0.01243095, 0.01249652, 0.01376019, 0.01063714,\n",
       "        0.00691419, 0.00312409, 0.00937324, 0.01156678, 0.00711336]),\n",
       " 'std_fit_time': array([0.00633093, 0.00764438, 0.00765602, 0.00678979, 0.00765298,\n",
       "        0.00764692, 0.00765442, 0.00765559, 0.00551391, 0.        ,\n",
       "        0.00766132, 0.00263013, 0.00624826, 0.00227818, 0.00571078,\n",
       "        0.00608405, 0.00624819, 0.00765321, 0.00605762, 0.00619548]),\n",
       " 'mean_score_time': array([0.06717143, 0.04999566, 0.04373527, 0.0836688 , 0.07498183,\n",
       "        0.08123822, 0.08123703, 0.09972143, 0.08809471, 0.09231119,\n",
       "        0.07185082, 0.09698706, 0.10397038, 0.12500553, 0.11643124,\n",
       "        0.12624516, 0.05936098, 0.08435445, 0.11744342, 0.10120702]),\n",
       " 'std_score_time': array([0.01337512, 0.00626373, 0.00626231, 0.00975313, 0.00624974,\n",
       "        0.01169851, 0.01169794, 0.02072397, 0.01646432, 0.00638805,\n",
       "        0.01250091, 0.00962067, 0.00851155, 0.00954058, 0.00973024,\n",
       "        0.0170061 , 0.01169059, 0.00765333, 0.0105954 , 0.00720642]),\n",
       " 'param_n_neighbors': masked_array(data=[52, 26, 6, 124, 113, 149, 127, 176, 142, 162, 55, 109,\n",
       "                    110, 160, 133, 175, 2, 67, 137, 103],\n",
       "              mask=[False, False, False, False, False, False, False, False,\n",
       "                    False, False, False, False, False, False, False, False,\n",
       "                    False, False, False, False],\n",
       "        fill_value='?',\n",
       "             dtype=object),\n",
       " 'params': [{'n_neighbors': 52},\n",
       "  {'n_neighbors': 26},\n",
       "  {'n_neighbors': 6},\n",
       "  {'n_neighbors': 124},\n",
       "  {'n_neighbors': 113},\n",
       "  {'n_neighbors': 149},\n",
       "  {'n_neighbors': 127},\n",
       "  {'n_neighbors': 176},\n",
       "  {'n_neighbors': 142},\n",
       "  {'n_neighbors': 162},\n",
       "  {'n_neighbors': 55},\n",
       "  {'n_neighbors': 109},\n",
       "  {'n_neighbors': 110},\n",
       "  {'n_neighbors': 160},\n",
       "  {'n_neighbors': 133},\n",
       "  {'n_neighbors': 175},\n",
       "  {'n_neighbors': 2},\n",
       "  {'n_neighbors': 67},\n",
       "  {'n_neighbors': 137},\n",
       "  {'n_neighbors': 103}],\n",
       " 'split0_test_score': array([0.91736227, 0.91819699, 0.9048414 , 0.91819699, 0.91986644,\n",
       "        0.91736227, 0.91903172, 0.91569282, 0.91819699, 0.91652755,\n",
       "        0.91736227, 0.92070117, 0.92070117, 0.91652755, 0.91903172,\n",
       "        0.91652755, 0.8672788 , 0.91736227, 0.91819699, 0.91903172]),\n",
       " 'split1_test_score': array([0.92070117, 0.9115192 , 0.90567613, 0.91569282, 0.91736227,\n",
       "        0.91569282, 0.91903172, 0.91235392, 0.91736227, 0.91318865,\n",
       "        0.91903172, 0.9148581 , 0.9148581 , 0.91318865, 0.91652755,\n",
       "        0.91235392, 0.88397329, 0.91652755, 0.91736227, 0.91569282]),\n",
       " 'split2_test_score': array([0.91569282, 0.91736227, 0.9115192 , 0.91068447, 0.9115192 ,\n",
       "        0.91235392, 0.9115192 , 0.9115192 , 0.9115192 , 0.91068447,\n",
       "        0.91402337, 0.91402337, 0.91402337, 0.91068447, 0.9115192 ,\n",
       "        0.91235392, 0.89983306, 0.91569282, 0.91068447, 0.9148581 ]),\n",
       " 'split3_test_score': array([0.90810359, 0.91562239, 0.90559733, 0.90392648, 0.9047619 ,\n",
       "        0.9047619 , 0.90392648, 0.9047619 , 0.90392648, 0.90309106,\n",
       "        0.90810359, 0.9047619 , 0.9047619 , 0.90309106, 0.90559733,\n",
       "        0.9047619 , 0.87719298, 0.90643275, 0.90392648, 0.90392648]),\n",
       " 'split4_test_score': array([0.92147034, 0.91896408, 0.90643275, 0.92063492, 0.92063492,\n",
       "        0.91812865, 0.92147034, 0.91729323, 0.91812865, 0.91645781,\n",
       "        0.92147034, 0.92147034, 0.92147034, 0.91478697, 0.91729323,\n",
       "        0.91729323, 0.87050961, 0.92314119, 0.91812865, 0.9197995 ]),\n",
       " 'mean_test_score': array([0.91666604, 0.91633299, 0.90681336, 0.91382714, 0.91482895,\n",
       "        0.91365991, 0.91499589, 0.91232422, 0.91382672, 0.91198991,\n",
       "        0.91599826, 0.91516298, 0.91516298, 0.91165574, 0.9139938 ,\n",
       "        0.91265811, 0.87975755, 0.91583131, 0.91365978, 0.91466172]),\n",
       " 'std_test_score': array([0.00477726, 0.00265081, 0.00240626, 0.00594679, 0.00596327,\n",
       "        0.00487217, 0.00646705, 0.00433304, 0.00553977, 0.00495748,\n",
       "        0.00463103, 0.00600047, 0.00600047, 0.00469438, 0.0048849 ,\n",
       "        0.00444954, 0.0115639 , 0.00537801, 0.00561881, 0.0056893 ]),\n",
       " 'rank_test_score': array([ 1,  2, 19, 11,  8, 13,  7, 16, 12, 17,  3,  5,  5, 18, 10, 15, 20,\n",
       "         4, 14,  9])}"
      ]
     },
     "execution_count": 71,
     "metadata": {},
     "output_type": "execute_result"
    }
   ],
   "source": [
    "rs2.cv_results_"
   ]
  },
  {
   "cell_type": "code",
   "execution_count": 72,
   "id": "ae57246b",
   "metadata": {},
   "outputs": [
    {
     "data": {
      "text/html": [
       "<div>\n",
       "<style scoped>\n",
       "    .dataframe tbody tr th:only-of-type {\n",
       "        vertical-align: middle;\n",
       "    }\n",
       "\n",
       "    .dataframe tbody tr th {\n",
       "        vertical-align: top;\n",
       "    }\n",
       "\n",
       "    .dataframe thead th {\n",
       "        text-align: right;\n",
       "    }\n",
       "</style>\n",
       "<table border=\"1\" class=\"dataframe\">\n",
       "  <thead>\n",
       "    <tr style=\"text-align: right;\">\n",
       "      <th></th>\n",
       "      <th>mean_fit_time</th>\n",
       "      <th>std_fit_time</th>\n",
       "      <th>mean_score_time</th>\n",
       "      <th>std_score_time</th>\n",
       "      <th>param_n_neighbors</th>\n",
       "      <th>params</th>\n",
       "      <th>split0_test_score</th>\n",
       "      <th>split1_test_score</th>\n",
       "      <th>split2_test_score</th>\n",
       "      <th>split3_test_score</th>\n",
       "      <th>split4_test_score</th>\n",
       "      <th>mean_test_score</th>\n",
       "      <th>std_test_score</th>\n",
       "      <th>rank_test_score</th>\n",
       "    </tr>\n",
       "  </thead>\n",
       "  <tbody>\n",
       "    <tr>\n",
       "      <th>0</th>\n",
       "      <td>0.007312</td>\n",
       "      <td>0.006331</td>\n",
       "      <td>0.067171</td>\n",
       "      <td>0.013375</td>\n",
       "      <td>52</td>\n",
       "      <td>{'n_neighbors': 52}</td>\n",
       "      <td>0.917362</td>\n",
       "      <td>0.920701</td>\n",
       "      <td>0.915693</td>\n",
       "      <td>0.908104</td>\n",
       "      <td>0.921470</td>\n",
       "      <td>0.916666</td>\n",
       "      <td>0.004777</td>\n",
       "      <td>1</td>\n",
       "    </tr>\n",
       "    <tr>\n",
       "      <th>1</th>\n",
       "      <td>0.006242</td>\n",
       "      <td>0.007644</td>\n",
       "      <td>0.049996</td>\n",
       "      <td>0.006264</td>\n",
       "      <td>26</td>\n",
       "      <td>{'n_neighbors': 26}</td>\n",
       "      <td>0.918197</td>\n",
       "      <td>0.911519</td>\n",
       "      <td>0.917362</td>\n",
       "      <td>0.915622</td>\n",
       "      <td>0.918964</td>\n",
       "      <td>0.916333</td>\n",
       "      <td>0.002651</td>\n",
       "      <td>2</td>\n",
       "    </tr>\n",
       "    <tr>\n",
       "      <th>2</th>\n",
       "      <td>0.009377</td>\n",
       "      <td>0.007656</td>\n",
       "      <td>0.043735</td>\n",
       "      <td>0.006262</td>\n",
       "      <td>6</td>\n",
       "      <td>{'n_neighbors': 6}</td>\n",
       "      <td>0.904841</td>\n",
       "      <td>0.905676</td>\n",
       "      <td>0.911519</td>\n",
       "      <td>0.905597</td>\n",
       "      <td>0.906433</td>\n",
       "      <td>0.906813</td>\n",
       "      <td>0.002406</td>\n",
       "      <td>19</td>\n",
       "    </tr>\n",
       "    <tr>\n",
       "      <th>3</th>\n",
       "      <td>0.010188</td>\n",
       "      <td>0.006790</td>\n",
       "      <td>0.083669</td>\n",
       "      <td>0.009753</td>\n",
       "      <td>124</td>\n",
       "      <td>{'n_neighbors': 124}</td>\n",
       "      <td>0.918197</td>\n",
       "      <td>0.915693</td>\n",
       "      <td>0.910684</td>\n",
       "      <td>0.903926</td>\n",
       "      <td>0.920635</td>\n",
       "      <td>0.913827</td>\n",
       "      <td>0.005947</td>\n",
       "      <td>11</td>\n",
       "    </tr>\n",
       "    <tr>\n",
       "      <th>4</th>\n",
       "      <td>0.009373</td>\n",
       "      <td>0.007653</td>\n",
       "      <td>0.074982</td>\n",
       "      <td>0.006250</td>\n",
       "      <td>113</td>\n",
       "      <td>{'n_neighbors': 113}</td>\n",
       "      <td>0.919866</td>\n",
       "      <td>0.917362</td>\n",
       "      <td>0.911519</td>\n",
       "      <td>0.904762</td>\n",
       "      <td>0.920635</td>\n",
       "      <td>0.914829</td>\n",
       "      <td>0.005963</td>\n",
       "      <td>8</td>\n",
       "    </tr>\n",
       "    <tr>\n",
       "      <th>5</th>\n",
       "      <td>0.009366</td>\n",
       "      <td>0.007647</td>\n",
       "      <td>0.081238</td>\n",
       "      <td>0.011699</td>\n",
       "      <td>149</td>\n",
       "      <td>{'n_neighbors': 149}</td>\n",
       "      <td>0.917362</td>\n",
       "      <td>0.915693</td>\n",
       "      <td>0.912354</td>\n",
       "      <td>0.904762</td>\n",
       "      <td>0.918129</td>\n",
       "      <td>0.913660</td>\n",
       "      <td>0.004872</td>\n",
       "      <td>13</td>\n",
       "    </tr>\n",
       "    <tr>\n",
       "      <th>6</th>\n",
       "      <td>0.006250</td>\n",
       "      <td>0.007654</td>\n",
       "      <td>0.081237</td>\n",
       "      <td>0.011698</td>\n",
       "      <td>127</td>\n",
       "      <td>{'n_neighbors': 127}</td>\n",
       "      <td>0.919032</td>\n",
       "      <td>0.919032</td>\n",
       "      <td>0.911519</td>\n",
       "      <td>0.903926</td>\n",
       "      <td>0.921470</td>\n",
       "      <td>0.914996</td>\n",
       "      <td>0.006467</td>\n",
       "      <td>7</td>\n",
       "    </tr>\n",
       "    <tr>\n",
       "      <th>7</th>\n",
       "      <td>0.006251</td>\n",
       "      <td>0.007656</td>\n",
       "      <td>0.099721</td>\n",
       "      <td>0.020724</td>\n",
       "      <td>176</td>\n",
       "      <td>{'n_neighbors': 176}</td>\n",
       "      <td>0.915693</td>\n",
       "      <td>0.912354</td>\n",
       "      <td>0.911519</td>\n",
       "      <td>0.904762</td>\n",
       "      <td>0.917293</td>\n",
       "      <td>0.912324</td>\n",
       "      <td>0.004333</td>\n",
       "      <td>16</td>\n",
       "    </tr>\n",
       "    <tr>\n",
       "      <th>8</th>\n",
       "      <td>0.008602</td>\n",
       "      <td>0.005514</td>\n",
       "      <td>0.088095</td>\n",
       "      <td>0.016464</td>\n",
       "      <td>142</td>\n",
       "      <td>{'n_neighbors': 142}</td>\n",
       "      <td>0.918197</td>\n",
       "      <td>0.917362</td>\n",
       "      <td>0.911519</td>\n",
       "      <td>0.903926</td>\n",
       "      <td>0.918129</td>\n",
       "      <td>0.913827</td>\n",
       "      <td>0.005540</td>\n",
       "      <td>12</td>\n",
       "    </tr>\n",
       "    <tr>\n",
       "      <th>9</th>\n",
       "      <td>0.000000</td>\n",
       "      <td>0.000000</td>\n",
       "      <td>0.092311</td>\n",
       "      <td>0.006388</td>\n",
       "      <td>162</td>\n",
       "      <td>{'n_neighbors': 162}</td>\n",
       "      <td>0.916528</td>\n",
       "      <td>0.913189</td>\n",
       "      <td>0.910684</td>\n",
       "      <td>0.903091</td>\n",
       "      <td>0.916458</td>\n",
       "      <td>0.911990</td>\n",
       "      <td>0.004957</td>\n",
       "      <td>17</td>\n",
       "    </tr>\n",
       "    <tr>\n",
       "      <th>10</th>\n",
       "      <td>0.006255</td>\n",
       "      <td>0.007661</td>\n",
       "      <td>0.071851</td>\n",
       "      <td>0.012501</td>\n",
       "      <td>55</td>\n",
       "      <td>{'n_neighbors': 55}</td>\n",
       "      <td>0.917362</td>\n",
       "      <td>0.919032</td>\n",
       "      <td>0.914023</td>\n",
       "      <td>0.908104</td>\n",
       "      <td>0.921470</td>\n",
       "      <td>0.915998</td>\n",
       "      <td>0.004631</td>\n",
       "      <td>3</td>\n",
       "    </tr>\n",
       "    <tr>\n",
       "      <th>11</th>\n",
       "      <td>0.012431</td>\n",
       "      <td>0.002630</td>\n",
       "      <td>0.096987</td>\n",
       "      <td>0.009621</td>\n",
       "      <td>109</td>\n",
       "      <td>{'n_neighbors': 109}</td>\n",
       "      <td>0.920701</td>\n",
       "      <td>0.914858</td>\n",
       "      <td>0.914023</td>\n",
       "      <td>0.904762</td>\n",
       "      <td>0.921470</td>\n",
       "      <td>0.915163</td>\n",
       "      <td>0.006000</td>\n",
       "      <td>5</td>\n",
       "    </tr>\n",
       "    <tr>\n",
       "      <th>12</th>\n",
       "      <td>0.012497</td>\n",
       "      <td>0.006248</td>\n",
       "      <td>0.103970</td>\n",
       "      <td>0.008512</td>\n",
       "      <td>110</td>\n",
       "      <td>{'n_neighbors': 110}</td>\n",
       "      <td>0.920701</td>\n",
       "      <td>0.914858</td>\n",
       "      <td>0.914023</td>\n",
       "      <td>0.904762</td>\n",
       "      <td>0.921470</td>\n",
       "      <td>0.915163</td>\n",
       "      <td>0.006000</td>\n",
       "      <td>5</td>\n",
       "    </tr>\n",
       "    <tr>\n",
       "      <th>13</th>\n",
       "      <td>0.013760</td>\n",
       "      <td>0.002278</td>\n",
       "      <td>0.125006</td>\n",
       "      <td>0.009541</td>\n",
       "      <td>160</td>\n",
       "      <td>{'n_neighbors': 160}</td>\n",
       "      <td>0.916528</td>\n",
       "      <td>0.913189</td>\n",
       "      <td>0.910684</td>\n",
       "      <td>0.903091</td>\n",
       "      <td>0.914787</td>\n",
       "      <td>0.911656</td>\n",
       "      <td>0.004694</td>\n",
       "      <td>18</td>\n",
       "    </tr>\n",
       "    <tr>\n",
       "      <th>14</th>\n",
       "      <td>0.010637</td>\n",
       "      <td>0.005711</td>\n",
       "      <td>0.116431</td>\n",
       "      <td>0.009730</td>\n",
       "      <td>133</td>\n",
       "      <td>{'n_neighbors': 133}</td>\n",
       "      <td>0.919032</td>\n",
       "      <td>0.916528</td>\n",
       "      <td>0.911519</td>\n",
       "      <td>0.905597</td>\n",
       "      <td>0.917293</td>\n",
       "      <td>0.913994</td>\n",
       "      <td>0.004885</td>\n",
       "      <td>10</td>\n",
       "    </tr>\n",
       "    <tr>\n",
       "      <th>15</th>\n",
       "      <td>0.006914</td>\n",
       "      <td>0.006084</td>\n",
       "      <td>0.126245</td>\n",
       "      <td>0.017006</td>\n",
       "      <td>175</td>\n",
       "      <td>{'n_neighbors': 175}</td>\n",
       "      <td>0.916528</td>\n",
       "      <td>0.912354</td>\n",
       "      <td>0.912354</td>\n",
       "      <td>0.904762</td>\n",
       "      <td>0.917293</td>\n",
       "      <td>0.912658</td>\n",
       "      <td>0.004450</td>\n",
       "      <td>15</td>\n",
       "    </tr>\n",
       "    <tr>\n",
       "      <th>16</th>\n",
       "      <td>0.003124</td>\n",
       "      <td>0.006248</td>\n",
       "      <td>0.059361</td>\n",
       "      <td>0.011691</td>\n",
       "      <td>2</td>\n",
       "      <td>{'n_neighbors': 2}</td>\n",
       "      <td>0.867279</td>\n",
       "      <td>0.883973</td>\n",
       "      <td>0.899833</td>\n",
       "      <td>0.877193</td>\n",
       "      <td>0.870510</td>\n",
       "      <td>0.879758</td>\n",
       "      <td>0.011564</td>\n",
       "      <td>20</td>\n",
       "    </tr>\n",
       "    <tr>\n",
       "      <th>17</th>\n",
       "      <td>0.009373</td>\n",
       "      <td>0.007653</td>\n",
       "      <td>0.084354</td>\n",
       "      <td>0.007653</td>\n",
       "      <td>67</td>\n",
       "      <td>{'n_neighbors': 67}</td>\n",
       "      <td>0.917362</td>\n",
       "      <td>0.916528</td>\n",
       "      <td>0.915693</td>\n",
       "      <td>0.906433</td>\n",
       "      <td>0.923141</td>\n",
       "      <td>0.915831</td>\n",
       "      <td>0.005378</td>\n",
       "      <td>4</td>\n",
       "    </tr>\n",
       "    <tr>\n",
       "      <th>18</th>\n",
       "      <td>0.011567</td>\n",
       "      <td>0.006058</td>\n",
       "      <td>0.117443</td>\n",
       "      <td>0.010595</td>\n",
       "      <td>137</td>\n",
       "      <td>{'n_neighbors': 137}</td>\n",
       "      <td>0.918197</td>\n",
       "      <td>0.917362</td>\n",
       "      <td>0.910684</td>\n",
       "      <td>0.903926</td>\n",
       "      <td>0.918129</td>\n",
       "      <td>0.913660</td>\n",
       "      <td>0.005619</td>\n",
       "      <td>14</td>\n",
       "    </tr>\n",
       "    <tr>\n",
       "      <th>19</th>\n",
       "      <td>0.007113</td>\n",
       "      <td>0.006195</td>\n",
       "      <td>0.101207</td>\n",
       "      <td>0.007206</td>\n",
       "      <td>103</td>\n",
       "      <td>{'n_neighbors': 103}</td>\n",
       "      <td>0.919032</td>\n",
       "      <td>0.915693</td>\n",
       "      <td>0.914858</td>\n",
       "      <td>0.903926</td>\n",
       "      <td>0.919799</td>\n",
       "      <td>0.914662</td>\n",
       "      <td>0.005689</td>\n",
       "      <td>9</td>\n",
       "    </tr>\n",
       "  </tbody>\n",
       "</table>\n",
       "</div>"
      ],
      "text/plain": [
       "    mean_fit_time  std_fit_time  mean_score_time  std_score_time  \\\n",
       "0        0.007312      0.006331         0.067171        0.013375   \n",
       "1        0.006242      0.007644         0.049996        0.006264   \n",
       "2        0.009377      0.007656         0.043735        0.006262   \n",
       "3        0.010188      0.006790         0.083669        0.009753   \n",
       "4        0.009373      0.007653         0.074982        0.006250   \n",
       "5        0.009366      0.007647         0.081238        0.011699   \n",
       "6        0.006250      0.007654         0.081237        0.011698   \n",
       "7        0.006251      0.007656         0.099721        0.020724   \n",
       "8        0.008602      0.005514         0.088095        0.016464   \n",
       "9        0.000000      0.000000         0.092311        0.006388   \n",
       "10       0.006255      0.007661         0.071851        0.012501   \n",
       "11       0.012431      0.002630         0.096987        0.009621   \n",
       "12       0.012497      0.006248         0.103970        0.008512   \n",
       "13       0.013760      0.002278         0.125006        0.009541   \n",
       "14       0.010637      0.005711         0.116431        0.009730   \n",
       "15       0.006914      0.006084         0.126245        0.017006   \n",
       "16       0.003124      0.006248         0.059361        0.011691   \n",
       "17       0.009373      0.007653         0.084354        0.007653   \n",
       "18       0.011567      0.006058         0.117443        0.010595   \n",
       "19       0.007113      0.006195         0.101207        0.007206   \n",
       "\n",
       "   param_n_neighbors                params  split0_test_score  \\\n",
       "0                 52   {'n_neighbors': 52}           0.917362   \n",
       "1                 26   {'n_neighbors': 26}           0.918197   \n",
       "2                  6    {'n_neighbors': 6}           0.904841   \n",
       "3                124  {'n_neighbors': 124}           0.918197   \n",
       "4                113  {'n_neighbors': 113}           0.919866   \n",
       "5                149  {'n_neighbors': 149}           0.917362   \n",
       "6                127  {'n_neighbors': 127}           0.919032   \n",
       "7                176  {'n_neighbors': 176}           0.915693   \n",
       "8                142  {'n_neighbors': 142}           0.918197   \n",
       "9                162  {'n_neighbors': 162}           0.916528   \n",
       "10                55   {'n_neighbors': 55}           0.917362   \n",
       "11               109  {'n_neighbors': 109}           0.920701   \n",
       "12               110  {'n_neighbors': 110}           0.920701   \n",
       "13               160  {'n_neighbors': 160}           0.916528   \n",
       "14               133  {'n_neighbors': 133}           0.919032   \n",
       "15               175  {'n_neighbors': 175}           0.916528   \n",
       "16                 2    {'n_neighbors': 2}           0.867279   \n",
       "17                67   {'n_neighbors': 67}           0.917362   \n",
       "18               137  {'n_neighbors': 137}           0.918197   \n",
       "19               103  {'n_neighbors': 103}           0.919032   \n",
       "\n",
       "    split1_test_score  split2_test_score  split3_test_score  \\\n",
       "0            0.920701           0.915693           0.908104   \n",
       "1            0.911519           0.917362           0.915622   \n",
       "2            0.905676           0.911519           0.905597   \n",
       "3            0.915693           0.910684           0.903926   \n",
       "4            0.917362           0.911519           0.904762   \n",
       "5            0.915693           0.912354           0.904762   \n",
       "6            0.919032           0.911519           0.903926   \n",
       "7            0.912354           0.911519           0.904762   \n",
       "8            0.917362           0.911519           0.903926   \n",
       "9            0.913189           0.910684           0.903091   \n",
       "10           0.919032           0.914023           0.908104   \n",
       "11           0.914858           0.914023           0.904762   \n",
       "12           0.914858           0.914023           0.904762   \n",
       "13           0.913189           0.910684           0.903091   \n",
       "14           0.916528           0.911519           0.905597   \n",
       "15           0.912354           0.912354           0.904762   \n",
       "16           0.883973           0.899833           0.877193   \n",
       "17           0.916528           0.915693           0.906433   \n",
       "18           0.917362           0.910684           0.903926   \n",
       "19           0.915693           0.914858           0.903926   \n",
       "\n",
       "    split4_test_score  mean_test_score  std_test_score  rank_test_score  \n",
       "0            0.921470         0.916666        0.004777                1  \n",
       "1            0.918964         0.916333        0.002651                2  \n",
       "2            0.906433         0.906813        0.002406               19  \n",
       "3            0.920635         0.913827        0.005947               11  \n",
       "4            0.920635         0.914829        0.005963                8  \n",
       "5            0.918129         0.913660        0.004872               13  \n",
       "6            0.921470         0.914996        0.006467                7  \n",
       "7            0.917293         0.912324        0.004333               16  \n",
       "8            0.918129         0.913827        0.005540               12  \n",
       "9            0.916458         0.911990        0.004957               17  \n",
       "10           0.921470         0.915998        0.004631                3  \n",
       "11           0.921470         0.915163        0.006000                5  \n",
       "12           0.921470         0.915163        0.006000                5  \n",
       "13           0.914787         0.911656        0.004694               18  \n",
       "14           0.917293         0.913994        0.004885               10  \n",
       "15           0.917293         0.912658        0.004450               15  \n",
       "16           0.870510         0.879758        0.011564               20  \n",
       "17           0.923141         0.915831        0.005378                4  \n",
       "18           0.918129         0.913660        0.005619               14  \n",
       "19           0.919799         0.914662        0.005689                9  "
      ]
     },
     "execution_count": 72,
     "metadata": {},
     "output_type": "execute_result"
    }
   ],
   "source": [
    "results = pd.DataFrame(rs2.cv_results_)\n",
    "results"
   ]
  },
  {
   "cell_type": "code",
   "execution_count": 73,
   "id": "f0a8b842",
   "metadata": {},
   "outputs": [
    {
     "data": {
      "text/plain": [
       "{'n_neighbors': 52}"
      ]
     },
     "execution_count": 73,
     "metadata": {},
     "output_type": "execute_result"
    }
   ],
   "source": [
    "rs2.best_params_"
   ]
  },
  {
   "cell_type": "code",
   "execution_count": 74,
   "id": "30de6232",
   "metadata": {},
   "outputs": [
    {
     "data": {
      "text/plain": [
       "KNeighborsClassifier(n_neighbors=52)"
      ]
     },
     "execution_count": 74,
     "metadata": {},
     "output_type": "execute_result"
    }
   ],
   "source": [
    "rs2.best_estimator_"
   ]
  },
  {
   "cell_type": "code",
   "execution_count": 75,
   "id": "cc87fc9e",
   "metadata": {},
   "outputs": [],
   "source": [
    "knn4 = rs2.best_estimator_"
   ]
  },
  {
   "cell_type": "code",
   "execution_count": 76,
   "id": "f396f404",
   "metadata": {},
   "outputs": [
    {
     "data": {
      "text/plain": [
       "0.9131281651733542"
      ]
     },
     "execution_count": 76,
     "metadata": {},
     "output_type": "execute_result"
    }
   ],
   "source": [
    "knn4.score(xtest,ytest)"
   ]
  },
  {
   "cell_type": "markdown",
   "id": "f3d74a7f",
   "metadata": {},
   "source": [
    "# Save Model for Linear Regression"
   ]
  },
  {
   "cell_type": "code",
   "execution_count": 77,
   "id": "10ce01b0",
   "metadata": {},
   "outputs": [
    {
     "data": {
      "text/plain": [
       "['My3']"
      ]
     },
     "execution_count": 77,
     "metadata": {},
     "output_type": "execute_result"
    }
   ],
   "source": [
    "import joblib as jbl\n",
    "jbl.dump(reg,'My3')"
   ]
  },
  {
   "cell_type": "code",
   "execution_count": 78,
   "id": "242bc1d2",
   "metadata": {},
   "outputs": [],
   "source": [
    "model3 = jbl.load('My3')"
   ]
  },
  {
   "cell_type": "code",
   "execution_count": 79,
   "id": "8e1e6292",
   "metadata": {},
   "outputs": [
    {
     "data": {
      "text/plain": [
       "array([192.78714492])"
      ]
     },
     "execution_count": 79,
     "metadata": {},
     "output_type": "execute_result"
    }
   ],
   "source": [
    "model3.predict([[1,70]])"
   ]
  },
  {
   "cell_type": "code",
   "execution_count": null,
   "id": "9712d49a",
   "metadata": {},
   "outputs": [],
   "source": []
  }
 ],
 "metadata": {
  "kernelspec": {
   "display_name": "Python 3 (ipykernel)",
   "language": "python",
   "name": "python3"
  },
  "language_info": {
   "codemirror_mode": {
    "name": "ipython",
    "version": 3
   },
   "file_extension": ".py",
   "mimetype": "text/x-python",
   "name": "python",
   "nbconvert_exporter": "python",
   "pygments_lexer": "ipython3",
   "version": "3.9.5"
  }
 },
 "nbformat": 4,
 "nbformat_minor": 5
}
